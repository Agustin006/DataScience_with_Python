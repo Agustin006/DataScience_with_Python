{
 "cells": [
  {
   "cell_type": "markdown",
   "metadata": {},
   "source": [
    "### TRADING"
   ]
  },
  {
   "cell_type": "markdown",
   "metadata": {},
   "source": [
    "#pip install yfinance\n"
   ]
  },
  {
   "cell_type": "markdown",
   "metadata": {},
   "source": [
    "#pip install get-all-tickers\n"
   ]
  },
  {
   "cell_type": "markdown",
   "metadata": {},
   "source": [
    "\"Analisis de acciones\" \n",
    "#paginas que me sirven:\n",
    "#agarrar datos de yahoo finance = \"https://www.youtube.com/watch?v=-_sonKm-l8k\"\n",
    "#agarrar datos = \"https://www.youtube.com/watch?v=myFD0np9eys\""
   ]
  },
  {
   "cell_type": "code",
   "execution_count": 4,
   "metadata": {},
   "outputs": [],
   "source": [
    "import pandas as pd\n",
    "import matplotlib.pyplot as plt\n",
    "import numpy as np\n",
    "import seaborn as sns\n",
    "import yfinance as yf\n",
    "import datetime as dt\n",
    "from get_all_tickers import get_tickers as gt\n",
    "from matplotlib import style\n",
    "#from matplotlib.finance import candlestick_ohlc\n"
   ]
  },
  {
   "cell_type": "markdown",
   "metadata": {},
   "source": [
    "msft = yf.Ticker(\"MSFT\")\n",
    "\n",
    "# get stock info\n",
    "msft.info\n",
    "\n",
    "# get historical market data\n",
    "hist = msft.history(period=\"max\")\n",
    "\n",
    "# show actions (dividends, splits)\n",
    "msft.actions\n",
    "\n",
    "# show dividends\n",
    "msft.dividends\n",
    "\n",
    "# show splits\n",
    "msft.splits\n",
    "\n",
    "# show financials\n",
    "msft.financials\n",
    "msft.quarterly_financials\n",
    "\n",
    "# show major holders\n",
    "msft.major_holders\n",
    "\n",
    "# show institutional holders\n",
    "msft.institutional_holders\n",
    "\n",
    "# show balance sheet\n",
    "msft.balance_sheet\n",
    "msft.quarterly_balance_sheet\n",
    "\n",
    "# show cashflow\n",
    "msft.cashflow\n",
    "msft.quarterly_cashflow\n",
    "\n",
    "# show earnings\n",
    "msft.earnings\n",
    "msft.quarterly_earnings\n",
    "\n",
    "# show sustainability\n",
    "msft.sustainability\n",
    "\n",
    "# show analysts recommendations\n",
    "msft.recommendations\n",
    "\n",
    "# show next event (earnings, etc)\n",
    "msft.calendar\n",
    "\n",
    "# show ISIN code - *experimental*\n",
    "# ISIN = International Securities Identification Number\n",
    "msft.isin\n",
    "\n",
    "# show options expirations\n",
    "msft.options\n",
    "\n"
   ]
  },
  {
   "cell_type": "markdown",
   "metadata": {},
   "source": [
    "msft.info\n",
    "\n"
   ]
  },
  {
   "cell_type": "code",
   "execution_count": 5,
   "metadata": {},
   "outputs": [
    {
     "name": "stdout",
     "output_type": "stream",
     "text": [
      "['DDD', 'MMM', 'WBAI', 'EGHT', 'AHC', 'AOS', 'ATEN', 'AIR', 'AAN', 'ABB', 'ABT', 'ABBV', 'ANF', 'AGD', 'AWP', 'ACP', 'JEQ', 'ASGI', 'AOD', 'ABM', 'AKR', 'ACEL', 'ACN', 'ACCO', 'ATV', 'AYI', 'GOLF', 'ADX', 'PEO', 'ADCT', 'AGRO', 'ADNT', 'ADT', 'ATGE', 'AAP', 'ADSW', 'WMS', 'ASIX', 'AVK', 'ACM', 'AEFC', 'AEB', 'AEG', 'AER', 'AJRD', 'AMG', 'MGR', 'MGRB', 'AFL', 'MITT', 'AGCO', 'A', 'AEM', 'ADC', 'AL', 'APD', 'ALG', 'AGI', 'ALK', 'AIN', 'ALB', 'ACI', 'AA', 'ALC', 'ALEX', 'ALX', 'ARE', 'AQN', 'AQNA', 'AQNB', 'BABA', 'Y', 'ATI', 'ALLE', 'ALE', 'ADS', 'AFB', 'AWF', 'AB', 'AIO', 'CBH', 'NCV', 'NCZ', 'ACV', 'NFJ', 'NIE', 'ALSN', 'ALL', 'ALLY', 'PINE', 'ALTG', 'AYX', 'ATUS', 'MO', 'ACH', 'ALUS', 'AMBC', 'ABEV', 'AMC', 'AMCR', 'AEE', 'AMRC', 'AMOV', 'AMX', 'AAT', 'AXL', 'ACC', 'AEO', 'AEL', 'AXP', 'AFG', 'AFGB', 'AFGC', 'AFGD', 'AFGE', 'AFGH', 'AMH', 'AIG', 'ARL', 'ARA', 'AWR', 'AMT', 'AVD', 'AWK', 'AMWL', 'COLD', 'AMP', 'ABC', 'AMN', 'AMRX', 'AP', 'APH', 'AXR', 'HKIB', 'AME', 'PLAN', 'DYFN', 'FINS', 'AU', 'BUD', 'NLY', 'AM', 'AR', 'ANTM', 'ANH', 'AON', 'AIV', 'APG', 'ARI', 'APO', 'AFT', 'AIF', 'APLE', 'AIT', 'ATR', 'APTV', 'ARMK', 'ABR', 'ARC', 'MT', 'MTCN', 'ARCH', 'ADM', 'AROC', 'ARNC', 'ARCO', 'ACA', 'RCUS', 'ARD', 'ASC', 'AFC', 'ACRE', 'ARDC', 'ARES', 'AGX', 'ARGD', 'ARGO', 'ANET', 'AI', 'AIC', 'AIW', 'ARLO', 'AHH', 'ARR', 'AFI', 'AWI', 'ARW', 'AJG', 'APAM', 'ASA', 'ASAN', 'ABG', 'ACND', 'ASX', 'ASGN', 'AHT', 'ASH', 'ASPN', 'AMK', 'ASB', 'AC', 'AIZ', 'AIZP', 'AGO', 'HOME', 'T', 'TBB', 'TBC', 'ATTO', 'ATH', 'ATKR', 'AT', 'ASAQ', 'ATCO', 'ATO', 'ACB', 'ATHM', 'ALV', 'AN', 'AZO', 'AVLR', 'AVB', 'AGR', 'AVNS', 'AVTR', 'AVYA', 'AVY', 'AVNT', 'AVA', 'AXTA', 'AXS', 'AX', 'AXO', 'AZUL', 'AZRE', 'AZZ', 'BGS', 'BMRG', 'BW', 'BGH', 'BMI', 'BCSF', 'BKR', 'BBN', 'BLL', 'BANC', 'BBAR', 'BBVA', 'BBD', 'BBDO', 'BCH', 'BLX', 'BSBR', 'BSAC', 'BSMX', 'SAN', 'CIB', 'BXS', 'BAC', 'BOH', 'BMO', 'NTB', 'BNS', 'BKU', 'BCS', 'BBDC', 'MCI', 'MPV', 'BNED', 'B', 'GOLD', 'BHC', 'BAX', 'BTE', 'BCE', 'BZH', 'BDX', 'BDXB', 'BDC', 'BRBR', 'BHE', 'BHLB', 'BERY', 'BBY', 'BEST', 'BGSF', 'BHP', 'BBL', 'BIG', 'BH', 'BILL', 'BHVN', 'BIO', 'BITA', 'BJ', 'BKH', 'BKI', 'BSM', 'BB', 'BGIO', 'BFZ', 'BCAT', 'CII', 'BHK', 'HYT', 'BTZ', 'DSU', 'BGR', 'BDJ', 'EGF', 'FRA', 'BFO', 'BGT', 'BOE', 'BME', 'BMEZ', 'BAF', 'BKT', 'BGY', 'BKN', 'BTA', 'BZM', 'MHE', 'BIT', 'MUI', 'MUA', 'BKK', 'BBK', 'BBF', 'BYM', 'BFK', 'BLE', 'BTT', 'MEN', 'MUC', 'MUH', 'MHD', 'MFL', 'MUJ', 'MHN', 'MUE', 'MUS', 'MVT', 'MYC', 'MCA', 'MYD', 'MYF', 'MFT', 'MIY', 'MYJ', 'MYN', 'MPA', 'MQT', 'MYI', 'MQY', 'BNY', 'BSE', 'BFY', 'BCX', 'BST', 'BSTZ', 'BSD', 'BUI', 'BHV', 'BLK', 'BGB', 'BGX', 'BSL', 'BE', 'APRN', 'BXG', 'BVH', 'BXC', 'DCF', 'DHF', 'DMB', 'DSM', 'LEO', 'BA', 'BCC', 'BCEI', 'BOOT', 'BAH', 'BQ', 'BWA', 'BORR', 'SAM', 'BXP', 'BSX', 'BOX', 'BYD', 'BPMP', 'BP', 'BPT', 'BRC', 'BHR', 'BDN', 'BWG', 'LND', 'BAK', 'BRFS', 'MNRL', 'BFAM', 'BEDU', 'BSA', 'BSIG', 'BV', 'EAT', 'BCO', 'BMY', 'BMY~', 'VTOL', 'BTI', 'BRX', 'BRMK', 'BR', 'BNL', 'BKD', 'BAM', 'BBU', 'BIPC', 'BIP', 'RA', 'BEPC', 'BEP', 'BRO', 'BRT', 'BC', 'BKE', 'BVN', 'BBW', 'BG', 'BUR', 'BURL', 'BWXT', 'BY', 'CABO', 'CBT', 'COG', 'CACI', 'WHD', 'CADE', 'CAE', 'CAI', 'CAL', 'CWT', 'CALX', 'ELY', 'CPE', 'CPT', 'CCJ', 'CPB', 'CWH', 'GOOS', 'CM', 'CNI', 'CNQ', 'CP', 'CANG', 'CNNE', 'CAJ', 'CGC', 'CMD', 'COF', 'CSU', 'BXMT', 'CPRI', 'CPSR', 'CMO', 'CAH', 'CSL', 'KMX', 'CCL', 'CUK', 'CRS', 'CSV', 'CARR', 'CARS', 'CRI', 'CVNA', 'CSPR', 'CSLT', 'CTLT', 'CTT', 'CAT', 'CATO', 'CBZ', 'CBL', 'CBO', 'IGR', 'CBRE', 'CBX', 'PCPL', 'PRPB', 'FUN', 'CDR', 'CE', 'CLS', 'CELG~', 'CEL', 'CPAC', 'CX', 'CVE', 'CNC', 'CEN', 'CNP', 'EBR', 'CEPU', 'CCS', 'LUMN', 'CDAY', 'CF', 'GIB', 'CHX', 'ECOM          ', 'CHRA', 'CRL', 'CLDT', 'CMCM', 'CHGG', 'CHE', 'CC', 'CHMI', 'CPK', 'CVX', 'CHWY', 'CHS', 'CIM', 'DL', 'CEA', 'CHN', 'CGA', 'LFC', 'CHL', 'COE', 'SNP', 'ZNH', 'CHA', 'CHU', 'CYD', 'CMG', 'CHH', 'CB', 'CHT', 'CHD', 'CCX', 'CCIV', 'CIEN', 'CI', 'XEC', 'CBB', 'CNK', 'CINR', 'CIR', 'CIT', 'CCAC', 'BLW', 'C', 'CFG', 'CIA', 'CIO', 'CVEO', 'CCC', 'CLH', 'CCO', 'EMO', 'CEM', 'CTR', 'CLW', 'CWEN', 'CLF', 'CLPR', 'CLX', 'CLDR', 'NET', 'CMS', 'CMSA', 'CMSC', 'CMSD', 'CNA', 'CNF', 'CNHI', 'CNO', 'CEO', 'CNX', 'KOF', 'KO', 'CCEP', 'CDE', 'FOF', 'CNS', 'UTF', 'LDP', 'MIE', 'RQI', 'RNP', 'PSF', 'RFI', 'CFX', 'CFXA', 'CL', 'CXE', 'CIF', 'CXH', 'CMU', 'CLA', 'CLNY', 'CLNC', 'CXP', 'STK', 'CCZ', 'CMA', 'FIX', 'CMC', 'CBU', 'CYH', 'CHCT', 'CIG', 'CBD', 'SBS', 'ELP', 'CCU', 'CODI', 'CMP', 'CRK', 'CAG', 'CXO', 'CCM', 'CNMD', 'COP', 'CCR', 'CEIX', 'ED', 'STZ', 'CSTM', 'TCS', 'CLR', 'VLRS', 'CTRA', 'CTB', 'CPS', 'CTK', 'CPA', 'CLB', 'CXW', 'CLGX', 'CORR', 'CPLG', 'COR', 'CNR', 'GLW', 'CAAP', 'GYC', 'OFC', 'CTVA', 'CZZ', 'CMRE', 'COTY', 'CUZ', 'CVA', 'CPF', 'CR', 'BAP', 'CS', 'CPG', 'CEQP', 'CRH', 'CRT', 'CAPL', 'CCI', 'CCK', 'CRY', 'CTS', 'CUBE', 'CUB', 'CFR', 'CULP', 'CMI', 'CURO', 'CW', 'SRV', 'SZC', 'CWK', 'CUBB', 'CUBI', 'CVI', 'UAN', 'CVS', 'CELP', 'DHI', 'DEH', 'DAN', 'DHR', 'DAC', 'DQ', 'DRI', 'DAR', 'DVA', 'DCP', 'DECK', 'DE', 'DEX', 'DDF', 'DKL', 'DK', 'DELL', 'DAL', 'DLX', 'DEN', 'DBI', 'DESP', 'DB', 'DVN', 'DHX', 'DHT', 'DEO', 'DSSI', 'DRH', 'DSX', 'DKS', 'DBD', 'DMS', 'DLR', 'DDS', 'DDT', 'DIN', 'DFS', 'DMYT', 'DMYD', 'DLB', 'DG', 'D', 'DCUE', 'DRUA', 'DPZ', 'UFS', 'DCI', 'DFIN', 'LPG', 'DSL', 'DBL', 'DLY', 'PLOW', 'DEI', 'DOV', 'DVD', 'DOW', 'RDY', 'DGNR', 'DRD', 'DRQ', 'DS', 'DTB', 'DTE', 'DTJ', 'DTP', 'DTQ', 'DTW', 'DTY', 'DCO', 'DSE', 'DNP', 'DTF', 'DUC', 'DPG', 'DUK', 'DUKB', 'DUKH', 'DRE', 'DNB', 'DD', 'DXC', 'DY', 'DLNG', 'DT', 'DX', 'ELF', 'EXP', 'ECC           ', 'ECCB', 'ECCX', 'ECCY', 'EIC', 'ESTE', 'DEA', 'EGP', 'EMN', 'KODK', 'ETN', 'ETV', 'ETW', 'EV', 'EOI', 'EOS', 'EFT', 'EFL', 'EFF', 'EHT', 'ETX           ', 'EOT', 'EVN', 'ETJ', 'EFR', 'EVF', 'EVG', 'EVT', 'ETO', 'ETG', 'ETB', 'EXD', 'ETY', 'EXG', 'ECL', 'EC', 'EPC', 'EIX', 'EW', 'ELAN', 'ELAT', 'ESTC', 'EGO', 'ESI', 'ELVT', 'LLY', 'EFC', 'EARN', 'ERJ', 'EME', 'EEX', 'EBS', 'EMR', 'ESRT', 'EIG', 'EDN', 'ENBL', 'ENB', 'ENBA', 'EHC', 'DAVA', 'EXK', 'ENIA', 'ENIC', 'ENR', 'ET', 'EPAC', 'ERF', 'ENS', 'E', 'ENLC', 'EBF', 'ENVA', 'NPO', 'ETM', 'EAI', 'ETR', 'ELC', 'ELJ', 'ELU', 'EMP', 'ENJ', 'ENO', 'EZT', 'EPD', 'EVC', 'ENV', 'NVST', 'EVA', 'ENZ', 'EOG', 'EPAM', 'EPR', 'EQT', 'EFX', 'EQNR', 'EQH', 'ETRN', 'EQC', 'ELS', 'EQR', 'EQS', 'ESGC', 'ESE', 'ESNT', 'EPRT', 'WTRG', 'WTRU', 'ESS', 'EL', 'ETH', 'EURN', 'EEA', 'EB', 'EVR', 'RE', 'EVRG', 'EVRI', 'ES', 'EVTC', 'EVH', 'AQUA', 'XAN', 'EXPR', 'EXTN', 'EXR', 'XOM', 'FNB', 'FN', 'FDS', 'FICO', 'SFUN', 'FTCH', 'FPI', 'FST', 'FSLY', 'FBK', 'FFG', 'AGM', 'FRT', 'FSS', 'FMN', 'FHI', 'FDX', 'RACE', 'FOE', 'FCAU', 'FNF', 'FIS', 'FMO', 'FINV', 'FAF', 'FBP', 'FCF', 'FCRW', 'FCRZ', 'FSLF', 'FHN', 'FR', 'AG', 'FRC', 'FFA', 'FMY', 'FDEU', 'FIF', 'FSD', 'FTHY', 'FPF', 'FEI           ', 'FPL', 'FIV', 'FCT', 'FGB', 'FEO', 'FAM', 'FE', 'FIT', 'FPH', 'FVRR', 'FBC', 'DFP', 'PFD', 'PFO', 'FFC', 'FLC', 'FLT', 'FLNG', 'FND', 'FTK', 'FLO', 'FLS', 'FLR', 'FLY', 'FEAC', 'FMC', 'WPF', 'BFT', 'FMX', 'FL', 'F', 'FOR', 'FTS', 'FTV', 'FTAI', 'FVAC', 'FAII', 'FSM', 'FBHS', 'FET', 'FBM', 'FCPT', 'FEDU', 'FNV', 'FC', 'BEN', 'FT', 'FI', 'FCX', 'FMS', 'FDP', 'RESI', 'FRO', 'FSK', 'FSKR', 'FCN', 'FUBO', 'FUSE', 'FF', 'GCV', 'GAB', 'GGZ', 'GGT', 'GUT', 'GLEO', 'GBL', 'GNT', 'GME', 'GCI', 'GPS', 'IT', 'GLOG', 'GLOP', 'GTES', 'GATX', 'GMTA', 'GCP', 'GNK', 'GNRC', 'GAM', 'GD', 'GE', 'GIS', 'GM', 'GCO', 'GEL', 'GEN           ', 'GNE', 'G', 'GPC', 'GNW', 'GEO', 'GPRK', 'GPJA', 'GGB', 'GTY', 'GFL', 'GFLU', 'GIX', 'GIX~', 'GIK', 'GIL', 'GLT', 'GKOS', 'GSK', 'GB', 'CO', 'GMRE', 'GNL', 'GLP', 'GPN', 'GSL', 'GSLD', 'GLOB', 'GL', 'GMED', 'GMS', 'GOAC', 'GDDY', 'GOL', 'GFI', 'GSBD', 'GS', 'GER', 'GRC', 'GPX', 'GGG', 'EAF', 'GHM', 'GHC', 'GRAM', 'GVA', 'GPMT', 'GPK', 'GTN', 'AJX', 'AJXA', 'GWB', 'GDOT', 'GBX', 'GHL', 'GHG', 'GEF', 'GFF', 'GPI', 'GRUB', 'PAC', 'ASR', 'AVAL', 'SUPV', 'TV', 'GSAH', 'GSX', 'GTT', 'GSH', 'GES', 'GGM', 'GPM', 'GOF', 'GBAB', 'GWRE', 'HRB', 'FUL', 'HAE', 'HAL', 'HBB', 'HBI', 'HNGR', 'HASI', 'HOG', 'HMY', 'HSC', 'HGH', 'HIG', 'HVT', 'HE', 'HCHC', 'HCA', 'HCI', 'HDB', 'HR', 'HTA', 'PEAK', 'HL', 'HEI', 'HLX', 'HP', 'HLF', 'HRI', 'HCXY', 'HCXZ', 'HTGC', 'HRTG', 'HT', 'HSY', 'HTZ', 'HES', 'HESM', 'HPE', 'HXL', 'HEXO', 'PCF', 'HGLB', 'HFRO', 'HPR', 'HIW', 'HIL', 'HI', 'HRC', 'HTH', 'HGV', 'HLT', 'HNI', 'HMLP', 'HEP', 'HFC', 'HD', 'HMC', 'HON', 'HMN', 'HZAC', 'HZN', 'HTFA', 'HRL', 'HST', 'HLI', 'HOV', 'HHC', 'HWM', 'HPQ', 'HPX', 'HSBC', 'HMI', 'HNP', 'HUBB', 'HUBS', 'HBM', 'HUD', 'HPP', 'HUM', 'HCFT', 'HII', 'HUN', 'HUYA', 'H', 'HYLN', 'HY', 'IAA', 'IAG', 'IBN', 'ICL', 'IDA', 'IEX', 'IDT', 'INFO', 'IH', 'ITW', 'IMAX', 'ICD', 'IHC', 'IRT', 'IFN', 'IBA', 'INFY', 'ING', 'IR', 'NGVT', 'INGR', 'IIPR', 'INSI', 'NSP', 'INSP', 'IBP', 'ITGR', 'ICE', 'IHG', 'IFS', 'IBM', 'IFF', 'IFFT', 'IGT', 'IP', 'INSW', 'IPV', 'IPG', 'IPI', 'IVC', 'VBF', 'VCV', 'VTA', 'IHIT', 'IHTA', 'VLT', 'IVR', 'OIA', 'VMO', 'VKQ', 'VPV', 'IVZ', 'IQI', 'VVR', 'VTN', 'VGM', 'IIM', 'IRET', 'NVTA', 'INVH', 'IO', 'IQV', 'IRM', 'IRS', 'STAR          ', 'ITCB', 'ITUB', 'ITT', 'IVH', 'JPM', 'JAX', 'JILL', 'SJM', 'JBL', 'J', 'JHX', 'JHG', 'JOF', 'JWS', 'JBGS', 'JEF', 'JELD', 'JCAP', 'JT', 'JKS', 'JMP', 'JBT', 'BTO', 'HEQ', 'JHS', 'JHI', 'HPF', 'HPI', 'HPS', 'PDT', 'HTD', 'HTY', 'JNJ', 'JCI', 'JLL', 'JMIA', 'JIH', 'JNPR', 'JP', 'JE', 'LRN', 'KAI', 'KDMN', 'KAMN', 'KSU', 'KAR', 'KYN', 'KMF', 'KB', 'KBH', 'KBR', 'BEKE', 'K', 'KMPR', 'KMT', 'KW', 'KEN', 'KCAC', 'KEY', 'KEYS', 'KRC', 'KRP', 'KMB', 'KIM', 'KMI', 'KFS', 'KGC', 'KEX', 'KL', 'KRG', 'KKR', 'KIO', 'KREF', 'KNX', 'KNL', 'KNOP', 'KN', 'KSS', 'PHG', 'KTB', 'KOP', 'KEP', 'KF', 'KFY', 'KOS', 'KRA', 'KR', 'KRO', 'KT', 'LB', 'SCX', 'LHX', 'LH', 'LADR', 'LAIX', 'LW', 'LCI', 'LPI', 'LVS', 'LGI', 'LAZ', 'LZB', 'LCII', 'LEAF', 'LEA', 'LEE', 'LGC', 'LEG', 'JBK', 'KTH', 'KTN', 'LDOS', 'LEJU', 'LMND', 'LC', 'LEN', 'LII', 'LEVI', 'LXP', 'LPL', 'DFNS', 'USA', 'ASG', 'LBRT', 'LSI', 'LITB', 'LSPD', 'LNC', 'LIN', 'LNN', 'LN', 'LINX', 'LAD', 'LAC', 'LYV', 'LOAK', 'LTHM', 'RAMP', 'LYG', 'SCD', 'LMT', 'L', 'LOMA', 'LGVW', 'LPX', 'LOW', 'LXU', 'LTC', 'LUB', 'LL', 'LXFR', 'LDL', 'LYB', 'MTB', 'MDC', 'MHO', 'MAC', 'CLI', 'MFD', 'MGU', 'MIC', 'BMA', 'M', 'MCN', 'MSGE', 'MSGS', 'MMP', 'MGA', 'MX', 'MGY', 'MHLA', 'MHNC', 'MAIN', 'MMD', 'MANU', 'MTW', 'MN', 'MAN', 'MFC', 'MRO', 'MPC', 'MMI', 'MCS', 'MPX', 'HZO', 'MKL', 'VAC', 'MMC', 'MLM', 'MAS', 'DOOR', 'MTZ', 'MA', 'MTDR', 'MTRN', 'MATX', 'MLP', 'MAXR', 'MMS', 'MXL', 'MEC', 'MBI', 'MKC', 'MCD', 'MUX', 'MCK', 'MDU', 'MTL', 'MDLA', 'MPW', 'MED', 'MCC', 'MCV', 'MCX', 'MDLQ', 'MDLX', 'MDLY', 'MD', 'MDT', 'MFAC', 'MRK', 'MCY', 'MDP', 'MTH', 'MTOR', 'MTR', 'MSB', 'MEI', 'MET', 'MCB', 'MTD', 'MXE', 'MXF', 'MFA', 'MFO', 'MCR', 'MGF', 'MIN', 'MMT', 'MFM', 'MFV', 'MTG', 'MGP', 'MGM', 'MFGP', 'MAA', 'AMPY', 'MLR', 'HIE', 'MTX', 'MNSO', 'MG', 'MUFG', 'MIXT', 'MFG', 'MBT', 'MODN', 'MOD', 'MC', 'MOGU', 'MHK', 'MOH', 'TAP', 'MNR', 'MR', 'MEG', 'MCO', 'MS', 'CAF', 'MSD', 'EDD', 'IIF', 'MOS', 'MSI', 'MOV', 'MPLX', 'MRC', 'MSA', 'MSM', 'MSCI', 'MSGN', 'MLI', 'MWA', 'MPLN', 'MVF', 'MZA', 'MUR', 'MUSA', 'MVO', 'MVC', 'MVCD', 'MYE', 'MYOV', 'NBR', 'NC', 'NTP', 'NTEST', 'NBHC', 'NFG', 'NGG', 'NHI', 'NOV', 'NPK', 'NNN', 'NRUC', 'SID', 'NSA', 'NTCO', 'NGS', 'NGVC', 'NRP', 'NTZ', 'NWG', 'NLS', 'NVGS', 'NNA', 'NM', 'NMM', 'NAV', 'NCR', 'NP', 'NNI', 'NPTN', 'NSCO', 'NTST', 'NVRO', 'HYB', 'NFH', 'GF', 'NWHM', 'IRL', 'EDU', 'NEWR', 'NRZ', 'SNR', 'NYC', 'NYCB', 'NYT', 'NJR', 'NEU', 'NEM', 'NR', 'NEXA', 'NREF', 'NXRT', 'NHF', 'NEP', 'NEE', 'NEX', 'NGL', 'NLSN', 'NKE', 'NINE', 'NIO', 'NI', 'NL', 'NOAH', 'NOK', 'NOMD', 'NMR', 'OSB', 'NAT', 'JWN', 'NSC', 'NOA', 'NRT', 'NGA', 'NOC', 'NWN', 'NCLH', 'NVS', 'NVO', 'DNOW', 'NRG', 'NUS', 'NUE', 'NS', 'NSS', 'NTR', 'NVG', 'NUV', 'NUW', 'NEA', 'NAZ', 'NKX', 'NCB', 'NCA', 'NAC', 'JCE', 'JHAA', 'JHB', 'JCO', 'JQC', 'JDD', 'DIAX', 'NDMO', 'JEMD', 'NEV', 'JFR', 'JRO', 'NKG', 'JGH', 'JHY', 'NXC', 'NXN', 'NID', 'NMY', 'NMT', 'NUM', 'NMS', 'NOM', 'JLS', 'JMM', 'NHA', 'NZF', 'NMCO', 'NMZ', 'NMI', 'NJV', 'NXJ', 'NRK', 'NYV', 'NNY', 'NAN', 'NUO', 'NPN', 'NQP', 'JPC', 'JPS', 'JPT', 'JPI', 'NAD', 'JRI', 'JRS', 'BXMX', 'SPXX', 'NIM', 'NXP', 'NXQ', 'NXR', 'NSL', 'JSD', 'NBB', 'JTD', 'JTA', 'NPV', 'NIQ', 'NVT', 'NVR', 'CTEST', 'OSH', 'OAC', 'OXY', 'OII', 'OCN', 'OFG', 'OGE', 'OI', 'OIS', 'ODC', 'ORI', 'OLN', 'OHI', 'OMC', 'AONE', 'OGS', 'OLP', 'OCFT', 'OMF', 'OKE', 'ONE', 'ONTO', 'OOMA', 'OPY', 'ORCL', 'ORAN', 'ORC', 'OEC', 'ORN', 'IX', 'ORA', 'OSK', 'OR', 'SFTW', 'OTIS', 'OUT', 'OSG', 'OVV', 'OMI', 'OC', 'ORCC', 'OXM', 'PACD', 'PCG', 'PCGU', 'PKG', 'PD', 'PAGS', 'PLTR', 'PANW', 'PAM', 'PANA', 'PHX', 'PARR', 'PAR', 'PGRE', 'PKE', 'PK', 'PH', 'PE', 'PSN', 'PRTY', 'PAYC', 'PBF', 'PBFX', 'BTU', 'PSO', 'PEB', 'PBA', 'PEI', 'PFSI', 'PMT', 'PAG', 'PNR', 'PEN', 'PFGC', 'PKI', 'PBT', 'PVL', 'PRT', 'PRGO', 'PSTH', 'PRSP', 'PTR', 'PBR', 'PFE', 'GHY', 'ISD', 'PGTI', 'PM', 'PSX', 'PSXP', 'FENG', 'DNK', 'PHR', 'DOC', 'PDM', 'PCQ', 'PCK', 'PZC', 'PCM', 'PTY', 'PCN', 'PCI', 'PDI', 'NRGX', 'PGP', 'PHK', 'PKO', 'PFL', 'PFN', 'PMF', 'PML', 'PMX', 'PNF', 'PNI', 'PYN', 'RCS', 'PING', 'PNW', 'PINS', 'PHD', 'PHT', 'MAV', 'MHI', 'PXD', 'PIPR', 'PBI', 'PIC', 'PJT', 'PAA', 'PAGP', 'PLNT', 'PLT', 'AGS', 'PHI', 'PLYM', 'PNC', 'PNM', 'PII', 'POR', 'PKX', 'POST', 'PSTL', 'PPG', 'PPX', 'PPL', 'PYS', 'PYT', 'PQG', 'PDS', 'APTS', 'PBH', 'PVG', 'PRI', 'PRMW', 'PGZ', 'PRA', 'PG', 'PGR', 'PLD', 'PUMP', 'PRO', 'PROS', 'PBB', 'PBC', 'PBY', 'PB', 'PRLB', 'PFS', 'PFH', 'PRS', 'PRU', 'PUK', 'PSB', 'TLK', 'PEG', 'PSA', 'PHM', 'PSTG', 'PMM', 'PIM', 'PMO', 'PPT', 'NEW', 'PVH', 'PZN', 'QTWO', 'QEP', 'QGEN', 'QTS', 'QUAD', 'KWR', 'NX', 'PWR', 'QD', 'DGX', 'QUOT', 'QVCC', 'QVCD', 'CTAA', 'CTBB', 'CTDD', 'CTY', 'CTZ', 'RRD', 'RMED', 'RDN', 'RFL', 'RL', 'RRC', 'RNGR', 'PACK', 'RJF', 'RYAM', 'RYN', 'RTX', 'RMAX', 'RC', 'RCA', 'RCB', 'RCP', 'RLGY', 'O', 'RLH', 'RBAC', 'RWT', 'RBC', 'RM', 'RF', 'RGS', 'RGA', 'RZA', 'RZB', 'RS', 'RELX', 'RNR', 'SOL', 'RENN', 'RPLA', 'RSG', 'REZI', 'RMD', 'RFP', 'QSR', 'RPAI', 'RVI', 'REVG', 'REV', 'RVLV', 'REX', 'REXR', 'RXN', 'RH', 'RNG', 'RIO', 'RBA', 'RAD', 'RFM', 'RMM', 'RMI', 'RIV', 'RIV~', 'RSF', 'OPP', 'RLI', 'RLJ', 'RMG', 'RHI', 'RKT', 'ROK', 'RCI', 'ROG', 'ROL', 'ROP', 'RY', 'RCL', 'RGT', 'RMT', 'RVT', 'RES', 'RPM', 'RPT', 'RYB', 'R', 'RYI', 'RHP', 'SPGI', 'SBR', 'SB', 'SFE', 'SAFE', 'SAIL', 'CRM', 'SMM', 'SBH', 'SJT', 'SD', 'SAND          ', 'SC', 'SAP', 'SAF', 'SAK', 'SAR', 'SSL', 'BFS', 'SCPE', 'SLB', 'SNDR', 'SWM', 'SAIC', 'SALT', 'SBBA', 'STNG', 'SMG', 'KTF', 'KSM', 'SRL', 'SCU', 'SCVX', 'SE', 'SA', 'CKH', 'SMHI', 'SEE', 'SEAS', 'WTTR', 'SEM', 'SLQT', 'SRE', 'SREA', 'ST', 'SXT', 'SQNS', 'SRG', 'SCI', 'NOW', 'SFL', 'SHAK', 'SJR', 'SHLX', 'SHW', 'FOUR', 'SHG', 'SHOP', 'SSTK', 'SBSW', 'SIG', 'SBOW', 'SI', 'SPG', 'SSD', 'SHI', 'SITC', 'SITE', 'SIX', 'TSLX', 'SJW', 'SKM', 'SKX', 'SKY', 'SLG', 'WORK', 'SM', 'SMAR', 'SNN', 'SNAP', 'SNA', 'SNOW', 'IPOB', 'IPOC', 'SQM', 'SOGO', 'SOI', 'SWI', 'SAH', 'SON', 'SNE', 'SOS', 'SOR', 'SJI', 'SJIJ', 'SJIU', 'SO', 'SOJB', 'SOJC', 'SOJD', 'SOJE', 'SOLN', 'SCCO', 'LUV', 'SWX', 'SWN', 'SPAQ', 'SPE', 'SPB           ', 'SR', 'SPR', 'SAVE', 'SRC', 'SPOT', 'SRLP', 'SII', 'SPXC', 'FLOW', 'SQ', 'JOE', 'STAG', 'SMP', 'SXI', 'SWK', 'SWT', 'STN', 'SGU', 'STPK', 'SRT', 'STWD', 'STT', 'SPLP', 'SCS', 'SCA', 'SCM', 'SCL', 'STE', 'STL', 'STC', 'SF', 'SFB', 'STM', 'EDF', 'EDI', 'STON', 'SRI', 'STOR', 'GJH', 'GJO', 'GJS', 'SYK', 'MSC', 'RGR', 'SPH', 'SMFG', 'INN', 'SUM', 'SMLP', 'SUI', 'SLF', 'SXC', 'SU', 'STG', 'NOVA', 'SUN', 'SHO', 'SUP', 'SOAC', 'SUZ', 'SWZ', 'SWCH', 'SBE', 'SYF', 'SNX', 'SNV', 'GJP', 'GJR', 'GJT', 'SYY', 'SYX', 'TWN', 'TSM', 'TAK', 'TAL', 'TALO', 'SKT', 'TPR', 'TRGP', 'TGT', 'TARO', 'TTM', 'TCO', 'TMHC', 'TRP', 'TCP', 'TSI', 'TEL', 'TISI', 'FTI', 'TECK', 'TK', 'TGP', 'TNK', 'TGNA', 'TRC', 'HQH', 'THQ', 'HQL', 'THW', 'TDOC', 'TEO', 'TDY', 'TFX', 'VIV', 'TEF', 'TDA', 'TDE', 'TDI', 'TDJ', 'TDS', 'TU', 'TDF', 'EMF', 'TEI', 'GIM', 'TPX', 'TS', 'TME', 'THC', 'TNC', 'TEN', 'TVC', 'TVE', 'TDC', 'TEX', 'TMX', 'TX', 'TRNO', 'TTI', 'TEVA', 'TPL', 'TGH', 'TXT', 'TFII', 'AES', 'AZEK', 'BK', 'BX', 'CEE', 'SCHW', 'COO', 'GDV', 'GRX', 'GDL', 'THG', 'TRV', 'TMO', 'THR', 'TPRE', 'TRI', 'THO', 'TDW', 'TIF', 'TLYS', 'TIMB', 'TKR', 'TMST', 'TWI', 'TJX', 'TOL', 'TR', 'BLD', 'TTC', 'TD', 'NDP', 'TYG', 'TEAF', 'NTG', 'TTP', 'TPZ', 'TOT', 'TSQ', 'TM', 'TRTX', 'TT', 'TAC', 'TCI', 'TDG', 'RIG', 'TGS', 'TRU', 'TREB', 'TREC', 'TG', 'THS', 'TREX', 'TY', 'TPH', 'TRNE', 'TNET', 'TRN', 'TSE', 'TPVG', 'TPVY', 'GTS', 'TRTN', 'TGI', 'TROX', 'TBI', 'TFC', 'TNP', 'TUFN', 'TUP', 'TKC', 'TPB', 'TRQ', 'TPC', 'TWLO', 'TRWH', 'TWTR', 'TWO', 'TYL', 'TSN', 'USB', 'USPH', 'SLCA', 'USX', 'UBER', 'UI', 'UBS', 'UDR', 'UGI', 'UGP', 'UMH', 'UA', 'UAA', 'UFI', 'UNF', 'UN', 'UL', 'UNP', 'UIS', 'UMC', 'UNFI', 'UPS', 'URI', 'USM', 'UZA', 'UZB', 'UZC', 'UZD', 'X', 'UNH', 'UTL', 'U', 'UNVR', 'UVV', 'UHT', 'UHS', 'UVE', 'UTI', 'UNM', 'UNMA', 'UE', 'UBA', 'UBP', 'USFD', 'USAC', 'USNA', 'USDP', 'BIF', 'UTZ', 'VFC', 'EGY', 'MTN', 'VALE', 'VLO', 'VHI', 'VMI', 'VVV', 'VAPO', 'VAR', 'VGR', 'VEC', 'VEDL', 'VEEV', 'VEL', 'VNTR', 'VTR', 'VNE', 'VER', 'VRTV', 'VZ', 'VET', 'VRS', 'VCIF', 'VRT', 'VIAO', 'VVI', 'VICI', 'VNCE', 'VIPS', 'SPCE', 'VHC', 'VGI', 'ZTR', 'V', 'VSH', 'VPG', 'VIST', 'VSTO', 'VST', 'VVNT', 'VMW', 'VOC', 'VCRA', 'VNT', 'VNO', 'IAE', 'IHD', 'VOYA', 'IGA', 'IGD', 'IDE', 'IID', 'IRR', 'PPR', 'VMC', 'WTI', 'WPC', 'WRB', 'GRA', 'GWW', 'WNC', 'WDR', 'WD', 'WMT', 'DIS', 'HCC', 'WPG', 'WRE', 'WCN', 'WM', 'WAT', 'WSO', 'WTS', 'W', 'WBS', 'WEC', 'WEI', 'WRI', 'WMK', 'WBT', 'WFC', 'EOD', 'WELL', 'WCC', 'WST', 'WAL', 'WALA', 'WEA', 'TLI', 'EMD', 'GDO', 'EHI', 'HIX', 'HIO', 'HYI', 'SBI', 'IGI', 'PAI', 'MMU', 'WMC', 'DMO', 'MTT', 'MHF', 'MNP', 'GFY', 'WIW', 'WIA', 'WES', 'WU', 'WAB', 'WLK', 'WLKP', 'WBK', 'WRK', 'WHG', 'WEX', 'WY', 'WPM', 'WHR', 'WTM', 'WSR', 'WLL', 'WOW', 'WMB', 'WSM', 'WGO', 'WIT', 'WNS', 'WWW', 'WF', 'WK', 'INT', 'WWE', 'WOR', 'WPP', 'WPX', 'WYND', 'WH', 'XYF', 'XFLT', 'XHR', 'XRX', 'XIN', 'XPEV', 'XPO', 'XYL', 'YALA', 'AUY', 'YELP', 'YETI', 'YEXT', 'YRD', 'DAO', 'YPF', 'YAC', 'YUMC', 'YUM', 'ZEN', 'ZBH', 'ZTS', 'ZTO', 'ZUO', 'ZYME', 'TXG', 'YI', 'PIH', 'PIHPP', 'TURN', 'FLWS', 'BCOW', 'ONEM', 'FCCY', 'SRCE', 'VNET', 'TWOU', 'QFIN', 'KRKR', 'FVAM', 'JOBS', 'ETNB', 'EGHT', 'NMTR', 'JFU', 'AAON', 'ABEO', 'ABMD', 'AXAS', 'ACIU', 'ACIA', 'ACTG', 'ASO', 'ACHC', 'ACAD', 'ACAM', 'ACAMU', 'ACAMW', 'ACST', 'AXDX', 'ACCP', 'XLRN', 'ACCD', 'ARAY', 'ACEV', 'ACEVU', 'ACEVW', 'ACLL', 'ACRX', 'ACER', 'ACHV', 'ACIW', 'ACRS', 'ACMR', 'ACNB', 'STWOU', 'ACOR', 'ATVI', 'AFIB', 'ADMS', 'ADMP', 'AHCO', 'ADAP', 'ADPT', 'ADXN', 'ADUS', 'AEY', 'ADIL', 'ADILW', 'ACET', 'ADTX', 'ADMA', 'ADBE', 'ADTN', 'ADES', 'AEIS', 'AMD', 'ADXS', 'ADVM', 'DWEQ', 'DWAW', 'DWUS', 'DWMC', 'DWSH', 'ACT', 'AEGN', 'AGLE', 'AEHR', 'AMTX', 'AERI', 'AVAV', 'ARPO', 'AIH', 'AEZS', 'AEMD', 'AFMD', 'AFYA', 'AGBA', 'AGBAR', 'AGBAU', 'AGBAW', 'AGEN', 'AGRX', 'AGYS', 'AGIO', 'AGMH', 'AGNC', 'AGNCM', 'AGNCN', 'AGNCO', 'AGNCP', 'API', 'AGFS', 'AIKI', 'ALRN', 'AIRT', 'AIRTP', 'AIRTW', 'ATSG', 'AIRG', 'ANTE', 'AKAM', 'AKTX', 'AKBA', 'KERN', 'KERNW', 'AKRO', 'AKER', 'AKUS', 'AKTS', 'AKU', 'ALRM', 'ALSK', 'ALAC', 'ALACR', 'ALACU', 'ALACW', 'ALBO', 'ALDX', 'ALEC', 'ALRS', 'ALXN', 'ALCO', 'ALIT', 'ALGN', 'ALGS', 'ALIM', 'ALYA', 'ALJJ', 'ALKS', 'ALLK', 'ABTX', 'ALGT', 'ALNA', 'ARLP', 'LNT', 'AESE', 'AHPI', 'AMOT', 'ALLO', 'ALLT', 'ALVR', 'MDRX', 'ALNY', 'AOSL', 'AHACU', 'GOOG', 'GOOGL', 'SMCP', 'ATEC', 'ALPN', 'ALTA', 'ALTR', 'ATHE', 'AGCUU', 'ALT', 'ASPS', 'AIMC', 'ALTM', 'ALXO', 'AMAG', 'AMAL', 'AMRN', 'AMRK', 'AMZN', 'AMBC', 'AMBA', 'AMCX', 'AMCI', 'AMCIU', 'AMCIW', 'DOX', 'AMED', 'AMTB', 'AMTBB', 'UHAL', 'AMRH', 'AMRHW', 'ATAX', 'AMOV', 'AAL', 'AEP', 'AEPPL', 'AEPPZ', 'AFIN', 'AFINP', 'AMNB', 'ANAT', 'AOUT', 'APEI', 'AREC', 'AMRB', 'AMSWA', 'AMSC', 'AVCT', 'AVCTW', 'AMWD', 'CRMT', 'ABCB', 'AMSF', 'ASRV', 'ASRVP', 'ATLO', 'AMST', 'AMGN', 'FOLD', 'AMKR', 'AMPH', 'IBUY', 'AMHC', 'AMHCU', 'AMHCW', 'AMYT', 'ASYS', 'AMRS', 'ADI', 'ANAB', 'AVXL', 'ANCN', 'ANDA', 'ANDAR', 'ANDAU', 'ANDAW', 'ANGI', 'ANGO', 'ANIP', 'ANIK', 'ANIX', 'ANNX', 'ANPC', 'ANSS', 'ATRS', 'AEHL', 'ATEX', 'APA', 'APLS', 'APEX', 'APXT', 'APXTU', 'APXTW', 'APHA', 'APOG', 'APEN', 'AINV', 'AMEH', 'APPF', 'APPN', 'AAPL', 'APDN', 'AGTC', 'AMAT', 'AMTI', 'AAOI', 'APLT', 'AUVI', 'APRE', 'APVO', 'APTX', 'APM', 'APTO', 'APYX', 'AQMS', 'AQB', 'AQST', 'ARAV', 'ABUS', 'ABIO', 'RKDA', 'ARCB', 'ACGL', 'ACGLO', 'ACGLP', 'FUV', 'ACTCU', 'ARCE', 'ARCT', 'ARQT', 'ARDX', 'ARNA', 'ARCC', 'ARGX', 'ARDS', 'ARKR', 'ARRY', 'DWCR', 'DWAT', 'AROW', 'ARWR', 'ARTL', 'ARTLW', 'ARTNA', 'AACQ', 'AACQU', 'AACQW', 'ARTW', 'ARVN', 'ARYB', 'ARYBU', 'ARYBW', 'ARYA', 'ASND', 'APWC', 'ASLN', 'ASML', 'ASPU', 'AZPN', 'AWH', 'ASMB', 'ASRT', 'ASTE', 'AZN', 'ATRO', 'ALOT', 'ASTC', 'ASUR', 'AACG', 'ATRA', 'ATNX', 'ATHX', 'ATHA', 'ATIF', 'AAME', 'ACBI', 'AUB', 'AUBAP', 'AY', 'ATLC', 'AAWW', 'ATCX', 'ATCXW', 'TEAM', 'ATNI', 'ATOM', 'ATOS', 'BCEL', 'ATRC', 'ATRI', 'LIFE', 'AUBN', 'AUDC', 'AEYE', 'AUPH', 'EARS', 'JG', 'ADSK', 'AUTL', 'ADP', 'AUTO', 'AVDL', 'AHI', 'AVCO', 'ATXI', 'AVEO', 'AVNW', 'CDMO', 'CDMOP', 'AVID', 'RNA', 'AVGR', 'CAR', 'RCEL', 'AVT', 'AVRO', 'AWRE', 'ACLS', 'AXLA', 'AXGN', 'AAXN', 'AXNX', 'AXGT', 'AXSM', 'AXTI', 'AYLA', 'AYRO', 'AYTU', 'AZYO', 'AZRX', 'RILY', 'RILYG', 'RILYH', 'RILYI', 'RILYL', 'RILYM', 'RILYN', 'RILYO', 'RILYP', 'RILYZ', 'BOSC', 'BIDU', 'BCPC', 'BLDP', 'BANF', 'BANFP', 'BAND', 'BFC', 'BOCH', 'BMRC', 'BMLP', 'BKSC', 'BOTJ', 'OZK', 'BSVN', 'BFIN', 'BWFG', 'BANR', 'BZUN', 'DFVL', 'DFVS', 'TAPR', 'BBSI', 'GOLD', 'BSET', 'ZTEST', 'BXRX', 'BCML', 'BBQ', 'BCBP', 'BCTG', 'BECN', 'BEEM', 'BEEMW', 'BEAM', 'BBGI', 'BBBY', 'BGNE', 'BELFA', 'BELFB', 'BLPH', 'BLCM', 'BLU', 'BNFT', 'BNTC', 'BSY', 'BLI', 'BRY', 'BWMX', 'XAIR', 'BYND', 'BYSI', 'BGCP', 'BCYC', 'BGFV', 'BRPA', 'BRPAR', 'BRPAU', 'BRPAW', 'BIGC', 'BILI', 'BASI', 'BCDA', 'BCDAW', 'BIOC', 'BCRX', 'BDSI', 'BFRA', 'BIIB', 'BHTG', 'BKYI', 'BIOL', 'BLFS', 'BLRX', 'BMRN', 'BMRA', 'BNGO', 'BNGOW', 'BVXV', 'BNTX', 'BPTH', 'BSGM', 'BSTC', 'TECH', 'BEAT', 'BIVI', 'BTAI', 'BTBT', 'BJRI', 'BDTX', 'BLKB', 'BL', 'BKCC', 'TCPC', 'BLNK', 'BLNKW', 'BLMN', 'BCOR', 'BLBD', 'BHAT', 'BLUE', 'BLCT', 'BKEP', 'BKEPP', 'BPMC', 'ITEQ', 'BMCH', 'BSBK', 'WIFI', 'BOKF', 'BOKFL', 'BNSO', 'BKNG', 'BIMI', 'BRQS', 'BOMN', 'BPFH', 'EPAY', 'BOWXU', 'BOXL', 'BBRX', 'BCLI', 'BWAY', 'BCTX', 'BBI', 'BDGE', 'BBIO', 'BLIN          ', 'BTWNU', 'BWB', 'BRID', 'BCOV', 'BHF', 'BHFAL', 'BHFAO', 'BHFAP', 'BRLI', 'BRLIR', 'BRLIU', 'BRLIW', 'AVGO', 'AVGOP', 'BYFC', 'BWEN', 'BROG', 'BROGW', 'BPY', 'BPYPN', 'BPYPO', 'BPYPP', 'BPYU', 'BPYUP', 'BRKL', 'BCAC', 'BCACU', 'BRKS', 'BRP', 'DOOO', 'BRKR', 'BMTC', 'BSQR', 'BLDR', 'BHSE', 'BHSEU', 'BTAQ', 'BTAQU', 'BTAQW', 'BNR', 'BFST', 'CFFI', 'CHRW', 'CCCC', 'CABA', 'CDNS', 'CDZI', 'CZR', 'CSTE', 'CLBS', 'CHY', 'CHI', 'CCD', 'CHW', 'CGO', 'CPZ', 'CSQ', 'CAMP', 'CVGW', 'CALB', 'CALA', 'CALT', 'CALM', 'CLMT', 'CLXT', 'CMBM', 'CATC', 'CAC', 'CAMT', 'CAN', 'CSIQ', 'CGIX', 'CPHC', 'CBNK', 'CCBG', 'CPLP', 'CSWC', 'CSWCL', 'CPTA', 'CPTAG', 'CPTAL', 'CFFN', 'CAPR', 'CSTR', 'CPST', 'CARA', 'CRDF', 'CSII', 'CDLX', 'CATM', 'CDNA', 'CTRE', 'CARG', 'PRTS', 'TAST', 'CARE', 'CARV', 'CASA', 'CWST', 'CASY', 'CASI', 'CASS', 'SAVA', 'CSTL', 'CTRM', 'CATB', 'CBIO', 'CPRX', 'CATY', 'CVCO', 'CBFV', 'CBAT', 'CBMB', 'CBOE', 'CBTX', 'CDK', 'CDW', 'CECE', 'CELC', 'CLDX', 'APOP', 'APOPW', 'CLRB', 'CLRBZ', 'CLLS', 'CBMG', 'CLSN', 'CELH', 'CYAD', 'CETX', 'CETXP', 'CETXW', 'CDEV', 'CNTG', 'CENT', 'CENTA', 'CVCY', 'CNTX', 'CENX', 'CNBKA', 'CNTY', 'CRNT', 'CERC', 'CRNC', 'CERN', 'CERS', 'CEVA', 'CFBK', 'CFFA', 'CFFAU', 'CFFAW', 'CFII', 'CFIIU', 'CFIIW', 'CSBR', 'CHNG', 'CHNGU', 'CTHR', 'GTLS', 'CHTR', 'CHKP', 'CHEK', 'CHEKZ', 'CMPI', 'CKPT', 'CEMI', 'CCXI', 'CHMG', 'CHFS', 'CHMA', 'CSSE', 'CSSEN', 'CSSEP', 'PLCE', 'CMRX', 'CAAS', 'CBPO', 'CCRC', 'JRJC', 'HGSH', 'CIH', 'CJJD', 'CLEU', 'CHNR', 'CREG', 'SXTC', 'CXDC', 'PLIN', 'CD', 'KDNY', 'IMOS', 'COFS', 'CHPM', 'CHPMU', 'CHPMW', 'CDXC', 'CHSCL', 'CHSCM', 'CHSCN', 'CHSCO', 'CHSCP', 'CHDN', 'CHUY', 'CDTX', 'CIIC', 'CIICU', 'CIICW', 'CMCT', 'CMCTP', 'CMPR', 'CNNB', 'CINF', 'CIDM', 'CTAS', 'CRUS', 'CSCO', 'CTRN', 'CTXR', 'CTXRW', 'CZNC', 'CZWI', 'CIZN', 'CTXS', 'CHCO', 'CIVB', 'CLAR', 'CLNE', 'CLSK', 'CACG', 'YLDE', 'LRGE', 'CLFD', 'CLRO', 'CLPT', 'CLSD', 'CLIR', 'CBLI', 'CLVS', 'CLPS', 'CMLFU', 'CCMP', 'CME', 'CCNE', 'CCNEP', 'CNSP', 'CCB', 'COKE', 'COCP', 'CODA', 'CCNC', 'CDXS', 'CODX', 'CDAK', 'CVLY', 'JVA', 'COGT', 'CCOI', 'CGNX', 'CTSH', 'CWBR', 'COHR', 'CHRS', 'COHU', 'CGRO', 'CGROU', 'CGROW', 'CLCT', 'COLL', 'CIGI', 'CLGN', 'CBAN', 'CSCW', 'COLB', 'CLBK', 'COLM', 'CMCO', 'CMCSA', 'CBSH', 'CVGI', 'COMM', 'JCS', 'ESXB', 'CFBI', 'CTBI', 'CWBC', 'CVLT', 'CMPS', 'CGEN', 'CPSI', 'CTG', 'SCOR', 'CHCI', 'CMTL', 'CNCE', 'BBCP', 'CDOR', 'CNDT', 'CFMS', 'CNFR', 'CNFRL', 'CNMD', 'CNOB', 'CONN', 'CNSL', 'CWCO', 'CNST', 'ROAD', 'CPSS', 'CFRX', 'CPTI', 'CPAA', 'CPAAU', 'CPAAW', 'CPRT', 'CRBP', 'CORT', 'CORE', 'CSOD', 'CRSR', 'CRTX', 'CLDB', 'CRVL', 'KOR', 'CRVS', 'CSGP', 'COST', 'CPAH', 'ICBK', 'COUP', 'CVLG', 'CVET', 'COWN', 'COWNL', 'COWNZ', 'CPSH', 'CRAI', 'CBRL', 'CRTD', 'CRTDW', 'CREX', 'CREXW', 'CACC', 'GLDI', 'SLVO', 'USOI', 'CREE', 'CRSA', 'CRSAU', 'CRSAW', 'CCAP', 'CRESY', 'CXDO', 'CRNX', 'CRSP', 'CRTO', 'CROX', 'CRON', 'CCRN', 'CFB', 'CRWD', 'CRWS', 'CYRX', 'CSGS', 'CCLP', 'CSPI', 'CSWI', 'CSX', 'CTIC', 'CUE', 'CPIX', 'CMLS', 'CVAC', 'CURI', 'CURIW', 'CRIS', 'CUTR', 'CVBF', 'CVV', 'CYAN', 'CYBR', 'CYBE', 'CYCC', 'CYCCP', 'CYCN', 'CBAY', 'CYRN', 'CONE', 'CYTK', 'CTMX', 'CTSO', 'DADA', 'DJCO', 'DAKT', 'DARE', 'DRIO', 'DRIOW', 'DSKE', 'DSKEW', 'DAIO', 'DDOG', 'DTSS', 'PLAY', 'DTEA', 'DFNL', 'DINT', 'DUSA', 'DWLD', 'DWSN', 'DBVT', 'DCRB', 'DCRBU', 'DCPH', 'DFHT', 'DFHTU', 'DFHTW', 'IBBJ', 'TACO', 'DCTH', 'DNLI', 'DENN', 'XRAY', 'DRMT', 'DMTK', 'DXLG', 'DSWL', 'DXCM', 'DFPH', 'DFPHU', 'DFPHW', 'DMAC', 'DHIL', 'FANG', 'DPHC', 'DPHCU', 'DPHCW', 'DRNA', 'DFFN', 'DGII', 'DMRC', 'EQOS', 'EQOSW', 'DRAD', 'DRADP', 'DGLY', 'APPS', 'DCOM', 'DCOMP', 'DIOD', 'DRTT', 'DISCA', 'DISCB', 'DISCK', 'DISH', 'DHC', 'DHCNI', 'DHCNL', 'DLHC', 'BOOM', 'DOCU', 'DOGZ', 'DLTR', 'DLPN', 'DLPNW', 'DOMO', 'DGICA', 'DGICB', 'DMLP', 'DORM', 'DDI', 'DOYU', 'DKNG', 'LYL', 'DBX', 'DSPG', 'DCT', 'DLTH', 'DNKN', 'DUOT', 'DRRX', 'DXPE', 'DYAI', 'DYNT', 'DVAX', 'DYN', 'DZSI', 'ETAC', 'ETACU', 'ETACW', 'SSP', 'EBMT', 'EGBN', 'EGLE', 'EGRX', 'IGLE', 'EAR', 'ERES', 'ERESU', 'ERESW', 'ESSC', 'ESSCR', 'ESSCU', 'ESSCW', 'EWBC', 'EBC', 'EML', 'EAST', 'EVGBC', 'EVSTC', 'EVLMC', 'EBON', 'EBAY', 'EBAYL', 'EBIX', 'ECHO', 'SATS', 'MOHO', 'EDAP', 'EDSA', 'EDNT', 'EDIT', 'EDUC', 'EGAN', 'EH', 'EHTH', 'EIDX', 'EIGR', 'EKSO', 'LOCO', 'ESLT', 'SOLO', 'SOLOW', 'ECOR', 'EA', 'ELSE', 'ESBK', 'ELOX', 'ELTK', 'EMCF', 'EMKR', 'ENTA', 'ECPG', 'WIRE', 'ENDP', 'NDRA', 'NDRAW', 'EIGI', 'WATT', 'EFOI', 'ERII', 'ENG', 'ENLV', 'ENOB', 'ENPH', 'ESGR', 'ESGRO', 'ESGRP', 'ETTX', 'ENTG', 'ENTX', 'ENTXW', 'EBTC', 'EFSC', 'EPZM', 'PLUS', 'EPSN', 'EQ', 'EQIX', 'EQBK', 'ERIC', 'ERIE', 'ERYP', 'ESCA', 'ESPR', 'GMBL', 'GMBLW', 'ESQ', 'ESSA', 'EPIX', 'ESTA', 'VBND', 'VUSE', 'VIDI', 'ETON', 'ETSY', 'CLWT', 'EDRY', 'EEFT', 'ESEA', 'EVLO', 'EVBG', 'EVK', 'EVER', 'MRAM', 'EVOP', 'EVFM', 'EVGN', 'EVOK', 'EOLS', 'EVOL', 'EXAS', 'XGN', 'ROBO', 'XELA', 'EXEL', 'EXC', 'EXFO', 'XCUR', 'EXLS', 'EXPI', 'EXPE', 'EXPD', 'EXPC', 'EXPCU', 'EXPCW', 'EXPO', 'STAY', 'EXTR', 'EYEG', 'EYEN', 'EYPT', 'EZPW', 'FLRZ', 'FFIV', 'FB', 'FCACU', 'FLMN', 'FLMNW', 'DUO', 'FANH', 'FARM', 'FMAO', 'FMNB', 'FAMI', 'FARO', 'FAST', 'FAT', 'FATBP', 'FATBW', 'FATE', 'FTHM', 'FBSS', 'FNHC', 'FENC', 'GSM', 'FFBW', 'FGEN', 'FDBC', 'ONEQ', 'FDUS', 'FDUSG', 'FDUSL', 'FDUSZ', 'FRGI', 'FITB', 'FITBI', 'FITBO', 'FITBP', 'FISI', 'FSRV', 'FSRVU', 'FSRVW', 'FTIVU', 'FEYE', 'FBNC', 'FNLC', 'FRBA', 'BUSE', 'FBIZ', 'FCAP', 'FCBP', 'FCNCA', 'FCNCP', 'FCBC', 'FCCO', 'FCRD', 'FFBC', 'FFIN', 'THFF', 'FFNW', 'FFWM', 'FGBI', 'FHB', 'INBK', 'INBKL', 'INBKZ', 'FIBK', 'FRME', 'FMBH', 'FMBI', 'FMBIO', 'FMBIP', 'FXNC', 'FNWB', 'FSFG', 'FSEA', 'FSLR', 'FAAR', 'FPA', 'BICK', 'FBZ', 'FTHI', 'FCAL', 'FCAN', 'FTCS', 'FCEF', 'FCA', 'SKYY', 'RNDM', 'FDT', 'FDTS', 'FVC', 'FV', 'IFV', 'DDIV', 'DVOL', 'DVLU', 'DWPP', 'DALI', 'FDNI', 'FEM', 'RNEM', 'FEMB', 'FEMS', 'FTSM', 'FEP', 'FEUZ', 'FGM', 'FTGC', 'FTLB', 'HYLS', 'FHK', 'NFTY', 'FTAG', 'FTRI', 'LEGR', 'NXTG', 'FPXI', 'FPXE', 'FJP', 'FEX', 'FTC', 'RNLC', 'FTA', 'FLN', 'LMBS', 'LDSF', 'FMB', 'FMK', 'FNX', 'FNY', 'RNMC', 'FNK', 'FAD', 'FAB', 'MDIV', 'MCEF', 'FMHI', 'QABA', 'ROBT', 'FTXO', 'QCLN', 'GRID', 'CIBR', 'FTXG', 'CARZ', 'FTXN', 'FTXH', 'FTXD', 'FTXL', 'TDIV', 'FTXR', 'QQEW', 'QQXT', 'QTEC', 'AIRR', 'RDVY', 'RFAP', 'RFDI', 'RFEM', 'RFEU', 'FID', 'FTSL', 'FYX', 'FYC', 'RNSC', 'FYT', 'SDVY', 'FKO', 'FCVT', 'FDIV', 'FSZ', 'FIXD', 'TUSA', 'FKU', 'RNDV', 'FUNC', 'FUSB', 'MYFW', 'FCFS', 'SVVC', 'FSV', 'FISV', 'FIVE', 'FPRX', 'FVE', 'FIVN', 'FLEX', 'FLXN', 'SKOR', 'ASET', 'ESG', 'ESGG', 'LKOR', 'QLC', 'MBSD', 'FPAY', 'FLXS', 'FLIR', 'FLWR', 'FLNT', 'FLDM', 'FFIC', 'FLUX', 'FNCB', 'FOCS', 'FONR', 'FRSX', 'FMTX', 'FORM', 'FORTY', 'FORR', 'FBRX', 'FRTA', 'FTNT', 'FBIO', 'FBIOP', 'FIII', 'FIIIU', 'FIIIW', 'FWRD', 'FORD', 'FWP', 'FOSL', 'FOX', 'FOXA', 'FOXF', 'FRAN', 'FRG', 'FRGAP', 'FELE', 'FRAF', 'FRHC', 'FRLN', 'RAIL', 'FEIM', 'FREQ', 'FRPT', 'FTDR', 'FRPH', 'FSBW', 'FSDC', 'HUGE', 'FTOC', 'FTOCU', 'FTOCW', 'FTEK', 'FCEL', 'FULC', 'FLGT', 'FORK', 'FLL', 'FMAX', 'FULT', 'FNKO', 'FUSN', 'FUTU', 'FTFT', 'FFHL', 'FVCB', 'WILC', 'GTHX', 'GAIA', 'GLPG', 'GALT', 'GRTX', 'GLMD', 'GMDA', 'GLPI', 'GAN', 'GRMN', 'GARS', 'GLIBA', 'GLIBP', 'GDS', 'GNSS', 'GENC', 'GFN', 'GFNCP', 'GFNSL', 'GBIO', 'GENE', 'GTH', 'GNFT', 'GNUS', 'GMAB', 'GNMK', 'GNCA', 'GNPX', 'GNTX', 'THRM', 'GEOS', 'GOVX', 'GOVXW', 'GABC', 'GERN', 'GEVO', 'ROCK', 'GIGM', 'GIII', 'GILT', 'GILD', 'GBCI', 'GLAD', 'GLADD', 'GLADL', 'GOOD', 'GOODM', 'GOODN', 'GAIN', 'GAINL', 'GAINM', 'LAND', 'LANDO', 'LANDP', 'GLBZ', 'GBT', 'GBLI', 'GBLIL', 'SELF', 'GWRS', 'AIQ', 'DRIV', 'POTX', 'CHB', 'CLOU', 'KRMA', 'BUG', 'DAX', 'EBIZ', 'EDUT', 'FINX', 'CHIC', 'GNOM', 'BFIT', 'SNSR', 'LNGR', 'MILN', 'EFAS', 'QYLG', 'QYLD', 'BOTZ', 'CATH', 'CEFA', 'SOCL', 'ALTY', 'SRET', 'EDOC', 'GXTG', 'HERO', 'YLCO', 'GLBS', 'GSMG', 'GSMGW', 'GLUU', 'GLYC', 'GOGO', 'GOCO', 'GLNG', 'GMLP', 'GMLPP', 'GDEN', 'GOGL', 'GBDC', 'GTIM', 'GBLK', 'GDRX', 'GSHD', 'GPRO', 'GHIV', 'GHIVU', 'GHIVW', 'GRSV', 'GRSVU', 'GRSVW', 'GMHI', 'GMHIU', 'GMHIW', 'GOSS', 'LOPE', 'GRVY', 'GRAY', 'GECC', 'GECCL', 'GECCM', 'GECCN', 'GEC', 'GLDD', 'GSBC', 'GRBK', 'GPP', 'GPRE', 'GRCY', 'GRCYU', 'GRCYW', 'GCBC', 'GTEC', 'GNLN', 'GLRE', 'GP', 'GRNQ', 'GNRS', 'GNRSU', 'GNRSW', 'GSKY', 'GRNV', 'GRNVR', 'GRNVU', 'GRNVW', 'GLSI', 'GDYN', 'GDYNW', 'GSUM', 'GRIF', 'GRFS', 'GRIN', 'GRTS', 'GO', 'GRPN', 'GRWG', 'OMAB', 'GGAL', 'GVP', 'GSIT', 'GTYH', 'GNTY', 'GFED', 'GH', 'GHSI', 'GIFI', 'GURE', 'GPOR', 'GWPH', 'GWGH', 'GXGX', 'GXGXU', 'GXGXW', 'GYRO', 'HEES', 'HLG', 'HOFV', 'HOFVW', 'HNRG', 'HALL', 'HALO', 'HLNE', 'HJLI', 'HJLIW', 'HWC', 'HWCPL', 'HWCPZ', 'HAFC', 'HAPP', 'HCDI', 'HONE', 'HLIT', 'HRMY', 'HARP', 'HROW', 'HBIO', 'HCAP', 'HCAPZ', 'HAS', 'HA', 'HWKN', 'HWBK', 'HYAC', 'HYACU', 'HYACW', 'HAYN', 'HBT', 'HDS', 'HHR', 'HCAT', 'HSAQ', 'HCCO', 'HCCOU', 'HCCOW', 'HCSG', 'HTIA', 'HQY', 'HSTM', 'HTLD', 'HTLF', 'HTLFP', 'HTBX', 'HEBT', 'HSII', 'HELE', 'HLIO', 'HSDT', 'HMTV', 'HNNA', 'HCAC', 'HCACU', 'HCACW', 'HSIC', 'HEPA', 'HTBK', 'HFWA', 'HGBL', 'HCCI', 'MLHR', 'HRTX', 'HSKA', 'HX', 'HFEN', 'HFFG', 'HIBB', 'CAPAU', 'SNLN', 'HPK', 'HPKEW', 'HIHO', 'HIMX', 'HIFS', 'HQI', 'HSTO', 'HKIT', 'HCCH', 'HCCHR', 'HCCHU', 'HCCHW', 'HMNF', 'HMSY', 'HOL', 'HOLUU', 'HOLUW', 'HOLI', 'HOLX', 'HBCP', 'HOMB', 'HFBL', 'HMST', 'HTBI', 'FIXX', 'HOFT', 'HOOK', 'HOPE', 'HBNC', 'HRZN', 'HZNP', 'TWNK', 'TWNKW', 'HOTH', 'HMHC', 'HWCC', 'HOVNP', 'HBMD', 'HTGM', 'HTHT', 'HUBG', 'HUSN', 'HEC', 'HECCU', 'HECCW', 'HSON', 'HDSN', 'HUIZ', 'HGEN', 'HBAN', 'HBANN', 'HBANO', 'HURC', 'HURN', 'HCM', 'HBP', 'HVBC', 'HYMC', 'HYMCW', 'HYMCZ', 'HYGO', 'HYRE', 'IIIV', 'IAC', 'IBEX', 'ICAD', 'IEP', 'ICCH', 'ICFI', 'ICHR', 'ICLK', 'ICLR', 'ICON', 'ICUI', 'IPWR', 'IDEX', 'IDYA', 'INVE', 'IDRA', 'IDXX', 'IEC', 'IESC', 'IROQ', 'IFMK', 'IGACU', 'IGMS', 'IHRT', 'INFO', 'IIVI', 'IIVIP', 'IKNX', 'ILMN', 'IMAB', 'IMAC', 'IMACW', 'ISNS', 'IMRA', 'IMBI', 'IMTX', 'IMTXW', 'IMMR', 'ICCC', 'IMUX', 'IMGN', 'IMNM', 'IMMU', 'IMVT', 'IMRN', 'IMRNW', 'IMMP', 'PI', 'IMV', 'NARI', 'INCY', 'INDB', 'IBCP', 'IBTX', 'ILPT', 'ITACU', 'INFN', 'INFI', 'IFRX', 'III', 'IEA', 'IEAWW', 'IMKTA', 'INBX', 'INMD', 'INMB', 'IPHA', 'INOD', 'IOSP', 'ISSC', 'INVA', 'INGN', 'INOV', 'INO', 'INZY', 'IPHI', 'INPX', 'INSG', 'NSIT', 'ISIG', 'INSM', 'INSE', 'IIIN', 'INAQU', 'PODD', 'NTEC', 'IART', 'IMTE', 'INTC', 'NTLA', 'IDN', 'IPAR', 'IBKR', 'ICPT', 'IDCC', 'TILE', 'IBOC', 'IGIC', 'IGICW', 'IMXI', 'IDXG', 'XENT', 'IPLDP', 'IVAC', 'ITCI', 'IIN', 'INTZ', 'INTU', 'ISRG', 'IVA', 'PLW', 'ADRE', 'BSCK', 'BSJK', 'BSCL', 'BSJL', 'BSML', 'BSAE', 'BSCM', 'BSJM', 'BSMM', 'BSBE', 'BSCN', 'BSJN', 'BSMN', 'BSCE', 'BSCO', 'BSJO', 'BSMO', 'BSDE', 'BSCP', 'BSJP', 'BSMP', 'BSCQ', 'BSJQ', 'BSMQ', 'BSCR', 'BSJR', 'BSMR', 'BSCS', 'BSJS', 'BSMS', 'BSCT', 'BSMT', 'BSCU', 'BSMU', 'PKW', 'PFM', 'PYZ', 'PEZ', 'PSL', 'PIZ', 'PIE', 'PXI', 'PFI', 'PTH', 'PRN', 'PDP', 'DWAS', 'PTF', 'PUI', 'IDLB', 'PRFZ', 'PIO', 'PGJ', 'PEY', 'IPKW', 'PID', 'KBWB', 'KBWD', 'KBWY', 'KBWP', 'KBWR', 'QQQM', 'PNQI', 'QQQJ', 'PDBC', 'QQQ', 'ISDX', 'ISEM', 'IUS', 'IUSS', 'USLB', 'PSCD', 'PSCC', 'PSCE', 'PSCF', 'PSCH', 'PSCI', 'PSCT', 'PSCM', 'PSCU', 'VRIG', 'PHO', 'ISTR', 'CMFNL', 'ICMB', 'ISBC', 'ITIC', 'NVIV', 'IONS', 'IOVA', 'IPGP', 'CLRG', 'CSML', 'IQ', 'IRMD', 'IRTC', 'IRIX', 'IRDM', 'IRBT', 'IRWD', 'IRCP', 'SLQD', 'ISHG', 'SHY', 'IGSB', 'TLT', 'IEI', 'IGIB', 'IEF', 'AIA', 'USIG', 'COMT', 'ISTB', 'IXUS', 'IUSG', 'IUSV', 'IUSB', 'HEWG', 'HYXF', 'DMXF', 'EMXF', 'USXF', 'SUSB', 'ESGD', 'ESGE', 'ESGU', 'SUSC', 'LDEM', 'SUSL', 'XT', 'FALN', 'IFGL', 'BGRN', 'IGF', 'GNMA', 'IBTA', 'IBTB', 'IBTD', 'IBTE', 'IBTF', 'IBTG', 'IBTH', 'IBTI', 'IBTJ', 'IBTK', 'IGOV', 'EMB', 'MBB', 'JKI', 'ACWX', 'ACWI', 'AAXJ', 'EWZS', 'MCHI', 'SCZ', 'EEMA', 'EMXC', 'EUFN', 'IEUS', 'RING', 'SDG', 'EWJE', 'EWJV', 'ENZL', 'QAT', 'TUR', 'UAE', 'IBB', 'SOXX', 'PFF', 'AMCA', 'EMIF', 'ICLN', 'WOOD', 'INDY', 'IJT', 'DVY', 'SHV', 'ITMR', 'ITOS', 'ITI', 'ITRM', 'ITRI', 'ITRN', 'ISEE', 'IZEA', 'JJSF', 'MAYS', 'JBHT', 'JCOM', 'JCIC', 'JCICU', 'JKHY', 'JACK', 'JAGX', 'JAKK', 'JRVR', 'JAMF', 'JAN', 'JSML', 'JSMD', 'JAZZ', 'JD', 'JRSH', 'JBLU', 'JCTCF', 'FROG', 'JFIN', 'JMPNL', 'JMPNZ', 'JBSS', 'JOUT', 'JNCE', 'YY', 'JAQC', 'JAQCU', 'JUPW', 'JUPWW', 'KALU', 'KXIN', 'KALA', 'KLDO', 'KALV', 'KMDA', 'KNDI', 'KRTX', 'KPTI', 'KSPN', 'KZIA', 'KBLM', 'KBLMR', 'KBLMU', 'KBLMW', 'KBSF', 'KRNY', 'KELYA', 'KELYB', 'KFFB', 'KROS', 'KDP', 'KEQU', 'KTCC', 'KZR', 'KFRC', 'KE', 'KBAL', 'KIN', 'KC', 'KINS', 'KNSA', 'KNSL', 'KTRA', 'KIRK', 'KRBP', 'KSMT', 'KSMTU', 'KSMTW', 'KTOV', 'KTOVW', 'KLAC', 'KLXE', 'KOD', 'KOPN', 'KRNT', 'KOSS', 'KWEB', 'KTOS', 'KRON', 'KRYS', 'KBNT', 'KBNTW', 'KLIC', 'KURA', 'KRUS', 'KVHI', 'KYMR', 'FSTR', 'LJPC', 'LSBK', 'LBAI', 'LKFN', 'LAKE', 'LRCX', 'LAMR', 'LANC', 'LCA', 'LCAHU', 'LCAHW', 'LCYAU', 'LNDC', 'LARK', 'LMRK', 'LMRKN', 'LMRKO', 'LMRKP', 'LE', 'LSTR', 'LTRN', 'LNTH', 'LTRX', 'LRMR', 'LSCC', 'LAUR', 'LAWS', 'LAZY', 'LCNB', 'LPTX', 'LEGH', 'LEGN', 'INFR', 'LVHD', 'SQLV', 'LACQ', 'LACQU', 'LACQW', 'LMAT', 'TREE', 'LNSR', 'LEVL', 'LEVLP', 'LXRX', 'LX', 'LFAC', 'LFACU', 'LFACW', 'LGIH', 'LHCG', 'LI', 'LLIT', 'LBRDA', 'LBRDK', 'LBTYA', 'LBTYB', 'LBTYK', 'LILA', 'LILAK', 'BATRA', 'BATRK', 'FWONA', 'FWONK', 'LSXMA', 'LSXMB', 'LSXMK', 'LTRPA', 'LTRPB', 'LSAC', 'LSACU', 'LSACW', 'LCUT', 'LFVN', 'LWAY', 'LGND', 'LTBR', 'LPTH', 'LMB', 'LLNW', 'LMST', 'LMNL', 'LMNR', 'LINC', 'LECO', 'LIND', 'LGHL', 'LGHLW', 'LCAP', 'LCAPU', 'LCAPW', 'LPCN', 'LIQT', 'YVR', 'LQDA', 'LQDT', 'LFUS', 'LIVK', 'LIVKU', 'LIVKW', 'LIVN', 'LOB', 'LIVE', 'LPSN', 'LIVX', 'LVGO', 'LXEH', 'LIZI', 'LKQ', 'LMFA', 'LMFAW', 'LMPX', 'LOGC', 'LOGI', 'CNCR', 'CHNA', 'LOAC', 'LOACR', 'LOACU', 'LOACW', 'LOOP', 'LORL', 'LPLA', 'LYTS', 'LULU', 'LITE', 'LMNX', 'LUMO', 'LUNA', 'LKCO', 'LBC', 'LYFT', 'LYRA', 'MCBC', 'MFNC', 'MTSI', 'MGNX', 'MDGL', 'MAGS', 'MGLN', 'MGTA', 'MGIC', 'MGNI', 'MGYR', 'MHLD', 'MNSB', 'MNSBP', 'MMYT', 'MLAC', 'MLACU', 'MLACW', 'MBUU', 'MACU', 'MACUU', 'MLVF', 'TUSK', 'MANH', 'LOAN', 'MNTX', 'MTEX', 'MNKD', 'MANT', 'MARA', 'MCHX', 'MRIN', 'MARPS', 'MRNS', 'MRKR', 'MKTX', 'MRLN', 'MAR', 'MBII', 'MRTN', 'MMLP', 'MRVL', 'MASI', 'MCFT', 'MTCH', 'MTLS', 'MTRX', 'MAT', 'MATW', 'MAXN', 'MXIM', 'MGRC', 'MDCA', 'MDJH', 'MDRR', 'MDRRP', 'MBNKP', 'MFIN', 'MFINL', 'MDIA', 'MDNA', 'MNOV', 'MDGS', 'MDGSW', 'MDWD', 'MEDP', 'MEIP', 'MGTX', 'MLCO', 'MTSL', 'MELI', 'MBWM', 'MERC', 'MBIN', 'MBINO', 'MBINP', 'MFH', 'MRCY', 'MREO', 'MCMJ', 'MCMJW', 'EBSB', 'VIVO', 'MRBK', 'MMSI', 'SNUG', 'MACK', 'MRSN', 'MRUS', 'MESA', 'MLAB', 'MESO', 'CASH', 'MTCR', 'METX', 'METXW', 'MEOH', 'MCBS', 'MGEE', 'MGPI', 'MBOT', 'MCHP', 'MU', 'MSFT', 'MSTR', 'MVIS', 'MICT', 'MPB', 'MTP', 'MCEP', 'MBCN', 'MSEX', 'MSBI', 'MSVB', 'MOFG', 'MIST', 'MLND', 'TIGO', 'MIME', 'MNDO', 'MIND', 'MINDP', 'NERV', 'MGEN', 'MRTX', 'MIRM', 'MSON', 'AVO', 'MITK', 'MKSI', 'MMAC', 'MTC', 'MOBL', 'MRNA', 'MOGO', 'MWK', 'MKD', 'MTEM', 'MBRX', 'MOMO', 'MKGI', 'MCRI', 'MDLZ', 'MGI', 'MDB', 'MNCL', 'MNCLU', 'MNCLW', 'MPWR', 'MNPR', 'MNRO', 'MRCC', 'MRCCL', 'MNST', 'MAACU', 'MORN', 'MORF', 'MOR', 'MOSY', 'MOTNU', 'MPAA', 'MOTS', 'MCAC', 'MCACR', 'MCACU', 'MOXC', 'COOP', 'MTBC', 'MTBCP', 'MTSC', 'GRIL', 'MBIO', 'MVBF', 'MYSZ', 'MYL', 'MYOK', 'MYOS', 'MYRG', 'MYGN', 'NBRV', 'NAKD', 'NNDM', 'NSTG', 'NAOV', 'NNOX', 'NH', 'NK', 'NSSC', 'NDAQ', 'NTRA', 'NATH', 'NKSH', 'FIZZ', 'NCMI', 'NESR', 'NESRW', 'NGHC', 'NGHCN', 'NGHCO', 'NGHCP', 'NGHCZ', 'NHLD', 'NHLDW', 'NATI', 'NRC', 'NSEC', 'EYE', 'NWLI', 'NAII', 'NHTC', 'NATR', 'NTUS', 'JSM', 'NAVI', 'NMCI', 'NBTB', 'NCNO', 'NCSM', 'NKTR', 'NMRD', 'NEOG', 'NEO', 'NLTX', 'NEON', 'NEOS', 'NVCN', 'NEPH', 'NEPT', 'UEPS', 'NETE', 'NTAP', 'NTES', 'NFIN', 'NFINU', 'NFINW', 'NFLX', 'NTGR', 'NTCT', 'NTWK', 'NBSE', 'NRBO', 'NBIX', 'NURO', 'STIM', 'NTRP', 'NFE', 'NMFC', 'NMFCL', 'NPA', 'NPAUU', 'NPAWW', 'NYMT', 'NYMTM', 'NYMTN', 'NYMTO', 'NYMTP', 'NBEV', 'NEWA', 'NBAC', 'NBACR', 'NBACU', 'NBACW', 'NWL', 'NWGI', 'NHIC', 'NHICU', 'NHICW', 'NMRK', 'NWS', 'NWSA', 'NEWT', 'NEWTI', 'NEWTL', 'NXMD', 'NXST', 'NXTC', 'NEXT', 'NGACU', 'NXGN', 'NGM', 'NODK', 'EGOV', 'NICE', 'NICK', 'NCBS', 'NKLA', 'NIU', 'NKTX', 'LASR', 'NMIH', 'NNBR', 'NBLX', 'NDLS', 'NDSN', 'NSYS', 'NMMCU', 'NBN', 'NTIC', 'NTRS', 'NTRSO', 'NFBK', 'NRIM', 'NWBI', 'NWPX', 'NWE', 'NLOK', 'NCLH', 'NWFL', 'NVFY', 'NVMI', 'NOVN', 'NOVT', 'NVAX', 'NVCR', 'NOVS', 'NOVSU', 'NOVSW', 'NVUS', 'NUAN', 'NCNA', 'NRIX', 'NTNX', 'NUVA', 'QQQX', 'NUZE', 'NVEE', 'NVEC', 'NVDA', 'NXPI', 'NXTD', 'NYMX', 'OIIM', 'OVLY', 'OCSL', 'OCSI', 'OMP', 'OBLN', 'OBSV', 'OBCI', 'OPTT', 'OCFC', 'OCFCP', 'OFED', 'OCGN', 'OCUL', 'ODT', 'OMEX', 'OPI', 'OPINI', 'OPINL', 'OFS', 'OFSSG', 'OFSSI', 'OFSSL', 'OFSSZ', 'OCCI', 'OCCIP', 'OVBC', 'OKTA', 'ODFL', 'ONB', 'OPOF', 'OSBC', 'OLLI', 'ZEUS', 'OFLX', 'OMER', 'OMCL', 'ON', 'ONCY', 'ONTX', 'ONTXW', 'ONCR', 'ONCS', 'ONCT', 'OSS', 'OSPN', 'OSW', 'ONEW', 'OTRK', 'OTRKP', 'OPBK', 'LPRO', 'OTEX', 'OPRA', 'OPES', 'OPESU', 'OPESW', 'OPGN', 'OPNT', 'OPK', 'OPRT', 'OPT', 'OBAS', 'OCC', 'OPRX', 'OPHC', 'OPTN', 'OPCH', 'ORMP', 'OSUR', 'ORBC', 'OEG', 'ORTX', 'ORLY', 'OGI', 'ORGO', 'ONVO', 'ORGS', 'ORIC', 'SEED', 'OBNK', 'OESX', 'ORSN', 'ORSNR', 'ORSNU', 'ORSNW', 'ORPH', 'ORRF', 'OFIX', 'KIDS', 'OSIS', 'OSMT', 'OSN', 'OTEL', 'OTG', 'OTIC', 'OTRA', 'OTRAU', 'OTTR', 'OTLK', 'OTLKW', 'OM', 'OSTK', 'OVID', 'OXBR', 'OXBRW', 'OXFD', 'OXLC', 'OXLCM', 'OXLCO', 'OXLCP', 'OXSQ', 'OXSQL', 'OXSQZ', 'OYST', 'PFIN', 'PTSI', 'PCAR', 'HERD', 'ECOW', 'VETS', 'PACB', 'PEIX', 'PMBC', 'PPBI', 'PCRX', 'PTVE', 'PACW', 'PAE', 'PAEWW', 'PRFX', 'PLMR', 'PAAS', 'PAND', 'PANL', 'PZZA', 'PRTK', 'TEUM', 'PCYG', 'PKBK', 'PKOH', 'PTNR', 'PTRS', 'PASG', 'PBHC', 'PATK', 'PNBK', 'PATI', 'PDCO', 'PTEN', 'PAVM', 'PAVMW', 'PAVMZ', 'PXMD', 'PXMDW', 'PAYA', 'PAYAW', 'PAYX', 'PCTY', 'PYPL', 'PAYS', 'CNXN', 'PCB', 'PCIM', 'PCSB', 'PCTI', 'PDCE', 'PDFS', 'PDLI', 'PDLB', 'PDSB', 'PGC', 'PEGA', 'PTON', 'PENN', 'PVAC', 'PFLT', 'PNNT', 'PNNTG', 'PWOD', 'PEBO', 'PEBK', 'PFIS', 'PBCT', 'PBCTP', 'PEP', 'PRCP', 'PRDO', 'PRFT', 'PSHG', 'PFMT', 'PERI', 'PESI', 'PPIH', 'PSNL', 'PETQ', 'PETS', 'PAICU', 'PFSW', 'PGTI', 'PHAS', 'PHAT', 'PAHC', 'PHIO', 'PHIOW', 'PLAB', 'PHUN', 'PHUNW', 'PICO', 'PLL', 'PIRS', 'PPC', 'PDD', 'PME', 'PNFP', 'PNFPP', 'PT', 'PBFS', 'PPSI', 'PXLW', 'PLYA', 'PLXS', 'PLRX', 'PLUG', 'PLBC', 'PS', 'PSTI', 'PSTV', 'PLXP', 'PMVP', 'PCOM', 'POLA', 'PTE', 'PYPD', 'POOL', 'BPOP', 'BPOPM', 'BPOPN', 'KCAPL', 'PTMN', 'PSTX', 'PBPB', 'PCH', 'POWL', 'POWI', 'PBTS', 'PWFL', 'PPD', 'PRAA', 'PRAH', 'PRAX', 'PGEN', 'PRPO', 'DTIL', 'POAI', 'PFBC', 'PLPC', 'PRLD', 'PFBI', 'PFC', 'PINC', 'SQFT', 'PBIO', 'PRVL', 'PRGX', 'PSMT', 'PNRG', 'PRMW', 'PRIM', 'PFG', 'BTEC', 'PDEV', 'GENY', 'PSET', 'PLC', 'USMC', 'PSC', 'PSM', 'PY', 'PRTH', 'PCSA', 'UFO', 'PDEX', 'IPDN', 'PFHD', 'PFIE', 'PROF', 'PROG', 'PRGS', 'PGNY', 'PFPT', 'PSAC', 'PSACU', 'PSACW', 'PRPH', 'PTAC', 'PTACU', 'PTACW', 'PRQR', 'EQRR', 'BIB', 'TQQQ', 'SQQQ', 'BIS', 'PSEC', 'PTGX', 'TARA', 'PTVCA', 'PTVCB', 'PTI', 'PRTA', 'PRVB', 'PVBC', 'PROV', 'PBIP', 'PMD', 'PTC', 'PTCT', 'PHCF', 'PULM', 'LUNG', 'PLSE', 'PBYI', 'PCYO', 'PRPL', 'PRPLW', 'PUYI', 'PXS', 'PXSAP', 'PXSAW', 'QK', 'QADA', 'QADB', 'QCRH', 'QELLU', 'QGEN', 'QIWI', 'QRVO', 'QCOM', 'QLGN', 'QLYS', 'QTRX', 'QMCO', 'QRHC', 'QH', 'QUIK', 'QDEL', 'QNST', 'QUMU', 'QTNT', 'QRTEA', 'QRTEB', 'QRTEP', 'QTT', 'RRD', 'RCM', 'RXT', 'RADA', 'RDCM', 'RADI', 'RDUS', 'RDNT', 'RDWR', 'METC', 'RMBS', 'RAND', 'RNDB', 'RPD', 'RAPT', 'RTLR', 'RAVE', 'RAVN', 'RBB', 'ROLL', 'RICK', 'RCMT', 'RDI', 'RDIB', 'BLCN', 'RNWK', 'RP', 'RETA', 'RCHGU', 'RCON', 'REPH', 'RRBI', 'RRGB', 'RRR', 'RDVT', 'RDFN', 'RDHL', 'REED', 'REG', 'REGN', 'RGNX', 'RGLS', 'REKR', 'RLAY', 'RBNC', 'RELV', 'RLMD', 'MARK', 'RNLX', 'RNST', 'REGI', 'RCII', 'RPTX', 'RPAY', 'RGEN', 'REPL', 'KRMD', 'RBCAA', 'FRBK', 'REFR', 'RSSS', 'RESN', 'RGP', 'ROIC', 'RETO', 'RTRX', 'RVNC', 'RVMD', 'RWLK', 'REXN', 'REYN', 'RFIL', 'RGCO', 'RBKB', 'RYTM', 'RBBN', 'RIBT', 'RELL', 'RMBI', 'RIGL', 'RNET', 'RMNI', 'RIOT', 'REDU', 'RVSB', 'RIVE', 'RMRM', 'RCKT', 'RMTI', 'RCKY', 'RMCF', 'ROKU', 'ROST', 'ROCH', 'ROCHU', 'ROCHW', 'RGLD', 'RPRX', 'RBCN', 'RUBY', 'RUHN', 'RMBL', 'RUSHA', 'RUSHB', 'RUTH', 'RYAAY', 'STBA', 'SANW', 'SBRA', 'SABR', 'SABRP', 'SFET', 'SAFT', 'SGA', 'SAGE', 'SAIA', 'SLRX', 'SALM', 'SAL', 'SAFM', 'SASR', 'SGMO', 'SANM', 'SNY', 'SPNS', 'SRPT', 'STSA', 'SVRA', 'SBFG', 'SBAC', 'SCSC', 'SMIT', 'SCHN', 'SRRK', 'SCHL', 'SDGR', 'SAMA', 'SAMAU', 'SAMAW', 'SJ', 'SGMS', 'SCPL', 'SCPH', 'WORX', 'SCYX', 'SEAC', 'SBCF', 'STX', 'SGEN', 'SHIP', 'SHIPW', 'SHIPZ', 'SPNE', 'EYES', 'EYESW', 'SECO', 'SCWX', 'SNFCA', 'SEEL', 'SEIC', 'SLCT', 'SIC', 'SELB', 'SIGI', 'SLS', 'LEDS', 'SMTC', 'SNCA', 'SENEA', 'SENEB', 'SNES', 'AIHS', 'SRTS', 'SQBG', 'MCRB', 'SVC', 'SREV', 'SFBS', 'SESN', 'SVBI', 'SGBX', 'SGOC', 'SMED', 'SHSP', 'STTK', 'SHEN', 'SFT', 'SFTTW', 'PIXY', 'SCCI', 'TYHT', 'SWAV', 'SCVL', 'SHBI', 'SSTI', 'SIBN', 'SIEB', 'SIEN', 'BSRR', 'SRRA', 'SWIR', 'SIFY', 'SIGA', 'SGLB', 'SGLBW', 'SGMA', 'SBNY', 'SLN', 'SLGN', 'SILC', 'SLAB', 'SIMO', 'SILK', 'SSPK', 'SSPKU', 'SSPKW', 'SAMG', 'SSNT', 'SFNC', 'SLP', 'SINA', 'SBGI', 'SINO', 'SVA', 'SINT', 'SPQQ', 'SG', 'SIRI', 'SRVA', 'SITM', 'SYTA', 'SYTAW', 'EDTK', 'SKYW', 'SWKS', 'SNBR', 'SLM', 'SLMBP', 'SGH', 'SND', 'SMBK', 'SDC', 'SWBI', 'SMSI', 'SMTX', 'SCKT', 'GIGE', 'SAII', 'SAIIU', 'SAIIW', 'SOHU', 'SLRC', 'SUNS', 'SEDG', 'SLNO', 'SLGL', 'SLDB', 'SNGX', 'SNGXW', 'SOLY', 'SONM', 'SONN', 'SNOA', 'SONO', 'SRNE', 'SOHO', 'SOHOB', 'SOHON', 'SOHOO', 'SFBC', 'SMMC', 'SMMCU', 'SMMCW', 'SPFI', 'SSB', 'SFST', 'SMBC', 'SONA', 'SBSI', 'SY', 'SP', 'SGRP', 'SPKE', 'SPKEP', 'TMTSU', 'SPTN', 'DWFI', 'SPPI', 'SPRO', 'ANY', 'SPI', 'SPEL', 'SAVE', 'STXB', 'SPLK', 'SPOK', 'SPWH', 'SBPH', 'SWTX', 'FUND', 'SPT', 'SFM', 'SPRB', 'SPSC', 'SRAX', 'SSNC', 'SSRM', 'STAA', 'SRAC', 'SRACU', 'SRACW', 'STAF', 'STMP', 'STND', 'SBLK', 'SBLKZ', 'SVACU', 'SBUX', 'STFC', 'MITO', 'GASS', 'STCN', 'STLD', 'STEP', 'SRCL', 'SBT', 'STRL', 'SHOO', 'SFIX', 'SYBT', 'STOK', 'BANX', 'STNE', 'SNEX', 'SSKN', 'SSYS', 'STRA', 'HNDL', 'STRT', 'STRS', 'STRM', 'SBBP', 'SUMR', 'SMMF', 'SSBI', 'SMMT', 'WISA', 'SUMO', 'SNBP', 'SNDE', 'SNDL', 'SNSS', 'STKL', 'SPWR', 'RUN', 'SUNW', 'SLGG', 'SMCI', 'SPCB', 'SGC', 'SUPN', 'SPRT', 'SURF', 'SRGA', 'SGRY', 'SRDX', 'SSSS', 'STRO', 'SIVB', 'SIVBP', 'SVMK', 'SWKH', 'SYKE', 'SYNC', 'SYNL', 'SYNA', 'SNCR', 'SNDX', 'SYNH', 'SYBX', 'SNPS', 'SYPR', 'SYRS', 'TROW', 'TTOO', 'TRHC', 'TCMD', 'TAIT', 'TLC', 'TTWO', 'TLND', 'TNDM', 'TANH', 'TAOP', 'TEDU', 'TH', 'THWWW', 'TARS', 'TATT', 'TTCF', 'TTCFW', 'TAYD', 'TSHA', 'TCF', 'TCFCP', 'CGBD', 'TCRR', 'GLG', 'PETZ', 'TCCO', 'TTGT', 'TGLS', 'TECTP', 'TELA', 'TNAV', 'TLGT', 'TELL', 'TENB', 'TENX', 'TZAC', 'TZACU', 'TZACW', 'TER', 'TBNK', 'TSLA', 'TESS', 'TTEK', 'TCBI', 'TCBIL', 'TCBIP', 'TXN', 'TXRH', 'TFFP', 'TFSL', 'TGTX', 'WTER', 'ANDE', 'TBBK', 'BPRN', 'CG', 'CAKE', 'CHEF', 'TCFC', 'DSGX', 'DXYN', 'ENSG', 'XONE', 'FBMS', 'FLIC', 'GT', 'HCKT', 'HAIN', 'CUBA', 'INTG', 'JYNT', 'KHC', 'OLD', 'LOVE', 'MIK', 'MIDD', 'ODP', 'OLB', 'STKS', 'PECK', 'PNTG', 'PRSC', 'REAL', 'RMR', 'SHYF', 'SMPL', 'TTD', 'YORW', 'NCTY', 'RACA', 'TXMD', 'THTX', 'TBPH', 'THMO', 'THRY', 'THBR', 'THBRU', 'THBRW', 'TLRY', 'TSBK', 'TIPT', 'TITN', 'TMDI', 'TTNP', 'TVTY', 'TLSA', 'TMUS', 'TOMZ', 'TNXP', 'TOPS', 'TRCH', 'TRMD', 'TOTA', 'TOTAR', 'TOTAU', 'TOTAW', 'TBLT', 'TBLTW', 'TSEM', 'TOWN', 'TPIC', 'TCON', 'TSCO', 'TW', 'TACT', 'TRNS', 'TGA', 'TBIO', 'TMDX', 'TA', 'TANNI', 'TANNL', 'TANNZ', 'TZOO', 'TIG', 'TRMT', 'TRVN', 'TRVI', 'TPCO', 'TCDA', 'TCBK', 'TDAC', 'TDACU', 'TDACW', 'TRIL', 'TRS', 'TRMB', 'TRIB', 'TCOM', 'TRIP', 'TSC', 'TSCAP', 'TSCBP', 'TBK', 'TBKCP', 'TRVG', 'TRUE', 'TRUP', 'TRST', 'TRMK', 'MEDS', 'TSRI', 'TTEC', 'TTMI', 'TC', 'TCX', 'TOUR', 'TMPMU', 'TPTX', 'HEAR', 'THCB', 'THCBU', 'THCBW', 'THCA', 'THCAU', 'THCAW', 'TWCTU', 'TWIN', 'TWST', 'TYME', 'USCR', 'USEG', 'GROW', 'USAU', 'USWS', 'USWSW', 'UCL', 'UFPI', 'UFPT', 'ULTA', 'UCTT', 'RARE', 'ULBI', 'UMBF', 'UMPQ', 'UNAM', 'LATN', 'LATNU', 'LATNW', 'UNB', 'QURE', 'UAL', 'UBCP', 'UBOH', 'UBSI', 'UCBI', 'UCBIO', 'UFCS', 'UIHC', 'UNFI', 'UBFO', 'USLM', 'UTHR', 'UG', 'UNIT', 'UNTY', 'UBX', 'OLED', 'UEIC', 'ULH', 'USAP', 'UVSP', 'TTTN', 'TIGR', 'UPLD', 'UPWK', 'UONE', 'UONEK', 'URBN', 'MYT', 'URGN', 'UROV', 'ECOL', 'ECOLW', 'USAK', 'USIO', 'UTMD', 'UTSI', 'UXIN', 'VCNX', 'VLY', 'VLYPO', 'VLYPP', 'VTEC', 'VALU', 'VNDA', 'BBH', 'ANGL', 'BJK', 'PPH', 'RTH', 'SMH', 'ESPO', 'VWOB', 'VNQI', 'VCIT', 'VGIT', 'VIGI', 'VYMI', 'VCLT', 'VGLT', 'VMBS', 'VONE', 'VONG', 'VONV', 'VTWO', 'VTWG', 'VTWV', 'VTHR', 'VCSH', 'VTIP', 'VGSH', 'BND', 'VTC', 'BNDX', 'VXUS', 'BNDW', 'VREX', 'VRNS', 'VBLT', 'VSTA', 'VXRT', 'PCVX', 'VBIV', 'VACQU', 'VECO', 'VLDR', 'VLDRW', 'VERO', 'VEON', 'VRA', 'VCYT', 'VSTM', 'VERB', 'VERBW', 'VCEL', 'VERY', 'VRME', 'VRMEW', 'VRNT', 'VRSN', 'VRSK', 'VBTX', 'VERI', 'VRNA', 'VRRM', 'VRCA', 'VTNR', 'VRTX', 'VERX', 'VERU', 'VSPRU', 'VIAC', 'VIACA', 'VSAT', 'VIAV', 'VICR', 'VCTR', 'CIZ', 'VSDA', 'CEY', 'CEZ', 'CID', 'CIL', 'QQQN', 'CFO', 'CFA', 'CSF', 'CDC', 'CDL', 'VSMV', 'CSB', 'CSA', 'VIE', 'VMD', 'VRAY', 'VKTX', 'VKTXW', 'VBFC', 'VFF', 'VLGEA', 'VIOT', 'VNOM', 'VIR', 'VIRC', 'VTSI', 'VIRT', 'VRTS', 'BBC', 'BBP', 'VRTU', 'VISL', 'VTGN', 'VMAC', 'VMACU', 'VMACW', 'VC', 'VITL', 'VTRU', 'VIVE', 'VVPR', 'VOD', 'VG', 'VJET', 'VOXX', 'VYGR', 'VIHAU', 'VRM', 'VSEC', 'VTVT', 'VUZI', 'VYNE', 'WAFU', 'HLAL', 'WTRH', 'WBA', 'WSG', 'WMG', 'WAFD', 'WASH', 'WSBF', 'WTRE', 'WTREP', 'WVE', 'WNFM', 'WSTG', 'WDFC', 'WB', 'WEN', 'WERN', 'WSBC', 'WSBCP', 'WTBA', 'WABC', 'WINC', 'WBND', 'WDC', 'WNEB', 'WPRT', 'WWR', 'WEYS', 'WHLR', 'WHLRD', 'WHLRP', 'WHF', 'WHFBZ', 'FREE', 'FREEW', 'WHLM', 'WVVI', 'WVVIP', 'WLDN', 'WLFC', 'WLTW', 'WSC', 'WIMI', 'WINT', 'WING', 'WINA', 'WINS', 'WTFC', 'WTFCM', 'WTFCP', 'CXSE', 'WCLD', 'EMCB', 'DGRE', 'DXGE', 'HYZD', 'AGZD', 'WETF', 'DXJS', 'DGRW', 'DGRS', 'WKEY', 'WIX', 'WWD', 'WDAY', 'WKHS', 'WRLD', 'WRTC', 'WMGI', 'WSFS', 'WVFC', 'WW', 'WYNN', 'XFOR', 'XBIT', 'XELB', 'XEL', 'XNCR', 'XBIO', 'XBIOW', 'XENE', 'XERS', 'XLNX', 'XOMA', 'XP', 'XPEL', 'XPER', 'XSPA', 'XTLB', 'XNET', 'YNDX', 'YTRA', 'YTEN', 'YIN', 'YMAB', 'YGYI', 'YGYIP', 'YRCW', 'CTIB', 'ZGYH', 'ZGYHR', 'ZGYHU', 'ZGYHW', 'YJ', 'ZAGG', 'ZLAB', 'ZEAL', 'ZBRA', 'ZNTL', 'ZCMD', 'Z', 'ZG', 'ZION', 'ZIONL', 'ZIONN', 'ZIONO', 'ZIONP', 'ZIOP', 'ZIXI', 'ZKIN', 'ZGNX', 'ZM', 'ZI', 'ZSAN', 'ZVO', 'ZS', 'ZUMZ', 'CNET', 'ZYNE', 'ZYXI', 'ZNGA', 'GOED', 'XXII', 'FAX', 'IAF', 'AEF', 'FCO', 'ACU', 'ATNM', 'AE', 'ACY', 'UAVS', 'AGE', 'AIRI', 'AXU', 'AAU', 'APT', 'AAMC', 'AMBO', 'DIT', 'AMS', 'USAS', 'AMPE', 'ANVS', 'ARMP', 'AINC', 'AWX', 'ASM', 'BTG', 'BTN', 'BCV', 'BHB', 'BRN', 'BATL', 'BIOX', 'PHGE', 'BGI', 'BKTI', 'BDR', 'BRBS', 'BRG', 'DMF', 'CMCL', 'CEI', 'CANF', 'YCBD', 'CVM', 'CET', 'LEU', 'CHAQ', 'CCF', 'CQP', 'LNG', 'CVR', 'CPHI', 'CKX', 'GLV', 'GLQ', 'GLO', 'COHN', 'CIX', 'LODE', 'CDOR', 'MCF', 'CMT', 'CRMD', 'CRF', 'CLM', 'CVU', 'CIK', 'DHY', 'CRHM', 'CTO', 'CTEK', 'DXR', 'VCF', 'VFL', 'VMM', 'DLA', 'DNN', 'DSS', 'DPW', 'DXF', 'GRF', 'EVM', 'CEV', 'EVV', 'EIM', 'ENX', 'EVY', 'ELMD', 'ELLO', 'ECF', 'EMAN', 'MSN', 'EMX', 'UUUU', 'ENSV', 'ELA', 'EQX', 'ESP', 'EVBN', 'EVI', 'EPM', 'EXN', 'FEN', 'BDL', 'FSI', 'FTF', 'FSP', 'FRD', 'FTSI', 'FURY', 'GAU', 'GGN', 'JOB', 'GSAT', 'GORO', 'GSV', 'AUMN', 'GSS', 'GV', 'GLDG', 'GDP', 'GTE', 'GPL', 'SIM', 'AIM', 'HMG', 'HUSA', 'IBIO', 'IBO', 'IMH', 'IMO', 'IOR', 'IGC', 'INDO', 'INFU', 'IHT', 'NSPR', 'ITRG', 'INS', 'THM', 'INTT', 'INUV', 'VKI', 'ISR', 'ISDR', 'ITP', 'KLR', 'KIQ', 'LSF', 'LGL', 'LCTX', 'MAG', 'MHH', 'MTNB', 'MMX', 'IPB', 'MTA', 'MXC', 'MLSS', 'MYO', 'NNVC', 'ATEST', 'NHC', 'NAVB', 'NTIP', 'NBW', 'NHS', 'NML', 'NBH', 'NBO', 'NRO', 'GBR', 'NEN', 'NGD', 'NXE', 'NAK', 'NOG', 'NBY', 'NG', 'NTN', 'NES', 'OBLG', 'OCX', 'OGEN', 'PTN', 'PZG', 'PRK', 'PED', 'HNW', 'PLAG', 'PLG', 'PLM', 'PW', 'PLX', 'PTK', 'RLGT', 'UTG', 'RHE', 'RCG', 'RVP', 'REI', 'SACC', 'SACH', 'SCCB', 'SCCC', 'SNMP', 'SEB', 'SENS', 'SVT', 'SMTS', 'SIF', 'SVM', 'SILV', 'XPL', 'LOV', 'STXS', 'SSY', 'SDPI', 'SYN', 'TKAT', 'TRX', 'TGB', 'TGC', 'GLU', 'GGO', 'TMBR', 'TMP', 'TAT', 'TRXC', 'TMQ', 'TPHS', 'TRT', 'UFAB', 'UAMY', 'UUU', 'URG', 'UEC', 'VGZ', 'VNRX', 'VOLT', 'EAD', 'ERC', 'ERH', 'WRN', 'WYY', 'WTT', 'XTNT', 'ZDGE', 'ZOM']\n",
      "6600\n"
     ]
    }
   ],
   "source": [
    "#Gets all tickers\n",
    "\n",
    "all_tickers = gt.get_tickers()\n",
    "print(all_tickers)\n",
    "print(len(all_tickers))"
   ]
  },
  {
   "cell_type": "code",
   "execution_count": null,
   "metadata": {},
   "outputs": [],
   "source": [
    "### SMALL SIZE version of code\n",
    "Sector = []\n",
    "Name = []\n",
    "Industry = []\n",
    "Stock = []\n",
    "Market_cap = []\n",
    "\n",
    "\n",
    "### For loops para categorizar los tickerst segun el sector al que pertenece la compania.\n",
    "### stock.info es un dict.\n",
    "for i in all_tickers:\n",
    "    ticker = i\n",
    "    try:\n",
    "        stock = yf.Ticker(i)\n",
    "        #sector = stock.info.get(\"sector\",\"\")\n",
    "        #name = stock.info.get(\"shortName\",\"\")\n",
    "        #industry = stock.info.get(\"industry\", \"\")\n",
    "        market_cap = stock.info.get(\"marketCap\",\"\")\n",
    "\n",
    "        Stock.append(ticker)\n",
    "        #Name.append(name)\n",
    "        #Sector.append(sector)\n",
    "        #Industry.append(industry)\n",
    "        Market_capo.append(market_cap)\n",
    "        print(ticker)\n",
    "    except:\n",
    "        print(\"pass \",ticker)\n",
    "        pass\n",
    "    \n",
    "df = pd.DataFrame([Stock,Market_cap])\n",
    "df_transpose = df.transpose()\n",
    "df_transpose.columns = [\"Ticker\", \"Market_cap\"]\n",
    "df_transpose.to_excel(r\"C:\\Users\\usuario\\Desktop\\Data science\\Datasets\\Finance\\Stocks_marketcap.xlsx\")\n",
    "    "
   ]
  },
  {
   "cell_type": "markdown",
   "metadata": {},
   "source": [
    "### Objetvio:\n",
    "\n",
    "    1) ¿Crear una estrategia de trading que sea ganadora?\n",
    "    2) ¿Que tipo de estrategia sera? ¿Agresiva/Moderada/Conservadora?\n",
    "    3) ¿Como se mide?\n",
    "            a - Retorno en los ultimos 1 meses, 12 meses y 5 año.\n",
    "            b - Volatilidad, varianca de los ultimos 1 mes, 12 meses y 5 años.\n",
    "    4)¿Que condiciones pre-existentes tenemos que tener antes de invertir?\n",
    "            a - Mercados de SP500, DJONS, Acciones del mercado correspondientes, en Bull.¿Como se mide?\n",
    "                    a.1. Media historica.\n",
    "            b - Volumen.\n",
    "            c - Analisis Sectorial.\n",
    "            d - Capitalizacion dle mercado. \n",
    "           \n",
    "            \n",
    "    "
   ]
  },
  {
   "cell_type": "markdown",
   "metadata": {},
   "source": []
  },
  {
   "cell_type": "code",
   "execution_count": 7,
   "metadata": {},
   "outputs": [],
   "source": [
    "tickers = [\"^IBEX\",\"AAPL\",\"^DJI\"]\n",
    "\n",
    "tik =[\"^IBEX\"]\n",
    "\n",
    "# \"GC=F\" es ORO\n",
    "\n",
    "start = dt.datetime(2010,1,1)\n",
    "end = dt.datetime(2020,8,15)"
   ]
  },
  {
   "cell_type": "code",
   "execution_count": 8,
   "metadata": {},
   "outputs": [
    {
     "name": "stdout",
     "output_type": "stream",
     "text": [
      "[*********************100%***********************]  1 of 1 completed\n"
     ]
    }
   ],
   "source": [
    "df = yf.download(tik, start=start, end=end, index=\"Date\")"
   ]
  },
  {
   "cell_type": "code",
   "execution_count": 1,
   "metadata": {},
   "outputs": [],
   "source": [
    "def graph(tik):\n",
    "    start = dt.datetime(2019,1,1)\n",
    "    end = dt.datetime(2020,8,15)\n",
    "    df = yf.download(tik, start=start, end=end, index=\"Date\")\n",
    "\n",
    "    df[\"25ma\"] = df[\"Open\"].rolling(window=25, min_periods=0).mean()\n",
    "    df[\"100ma\"] = df[\"Open\"].rolling(window=100, min_periods=0).mean()\n",
    "        #fig, ax = plt.subplots()\n",
    "    #ax.plot(df.index, df[\"Open\"])\n",
    "    #ax.plot(df.index, df[\"100ma\"])\n",
    "    #plt.show()\n",
    "    style.use(\"ggplot\")\n",
    "    plt.title(tik)\n",
    "    df[\"Open\"].plot()\n",
    "    df[\"25ma\"].plot()\n",
    "    df[\"100ma\"].plot()\n",
    "    #df[\"Volume\"].plot(secondary_y=True, marker=\"x\")\n",
    "    plt.show()"
   ]
  },
  {
   "cell_type": "code",
   "execution_count": 14,
   "metadata": {},
   "outputs": [
    {
     "data": {
      "text/html": [
       "<div>\n",
       "<style scoped>\n",
       "    .dataframe tbody tr th:only-of-type {\n",
       "        vertical-align: middle;\n",
       "    }\n",
       "\n",
       "    .dataframe tbody tr th {\n",
       "        vertical-align: top;\n",
       "    }\n",
       "\n",
       "    .dataframe thead th {\n",
       "        text-align: right;\n",
       "    }\n",
       "</style>\n",
       "<table border=\"1\" class=\"dataframe\">\n",
       "  <thead>\n",
       "    <tr style=\"text-align: right;\">\n",
       "      <th></th>\n",
       "      <th>Open</th>\n",
       "      <th>High</th>\n",
       "      <th>Low</th>\n",
       "      <th>Close</th>\n",
       "      <th>Adj Close</th>\n",
       "      <th>Volume</th>\n",
       "    </tr>\n",
       "    <tr>\n",
       "      <th>Date</th>\n",
       "      <th></th>\n",
       "      <th></th>\n",
       "      <th></th>\n",
       "      <th></th>\n",
       "      <th></th>\n",
       "      <th></th>\n",
       "    </tr>\n",
       "  </thead>\n",
       "  <tbody>\n",
       "    <tr>\n",
       "      <th>2010-01-04</th>\n",
       "      <td>11986.500000</td>\n",
       "      <td>12145.099609</td>\n",
       "      <td>11986.099609</td>\n",
       "      <td>12145.099609</td>\n",
       "      <td>12145.086914</td>\n",
       "      <td>184200</td>\n",
       "    </tr>\n",
       "    <tr>\n",
       "      <th>2010-01-05</th>\n",
       "      <td>12141.799805</td>\n",
       "      <td>12240.500000</td>\n",
       "      <td>12139.799805</td>\n",
       "      <td>12204.400391</td>\n",
       "      <td>12204.387695</td>\n",
       "      <td>238400</td>\n",
       "    </tr>\n",
       "    <tr>\n",
       "      <th>2010-01-06</th>\n",
       "      <td>12216.400391</td>\n",
       "      <td>12230.700195</td>\n",
       "      <td>12147.599609</td>\n",
       "      <td>12222.500000</td>\n",
       "      <td>12222.487305</td>\n",
       "      <td>123800</td>\n",
       "    </tr>\n",
       "    <tr>\n",
       "      <th>2010-01-07</th>\n",
       "      <td>12163.000000</td>\n",
       "      <td>12199.700195</td>\n",
       "      <td>12079.099609</td>\n",
       "      <td>12166.299805</td>\n",
       "      <td>12166.287109</td>\n",
       "      <td>192400</td>\n",
       "    </tr>\n",
       "    <tr>\n",
       "      <th>2010-01-08</th>\n",
       "      <td>12218.000000</td>\n",
       "      <td>12232.200195</td>\n",
       "      <td>12079.900391</td>\n",
       "      <td>12163.000000</td>\n",
       "      <td>12162.987305</td>\n",
       "      <td>213200</td>\n",
       "    </tr>\n",
       "  </tbody>\n",
       "</table>\n",
       "</div>"
      ],
      "text/plain": [
       "                    Open          High           Low         Close  \\\n",
       "Date                                                                 \n",
       "2010-01-04  11986.500000  12145.099609  11986.099609  12145.099609   \n",
       "2010-01-05  12141.799805  12240.500000  12139.799805  12204.400391   \n",
       "2010-01-06  12216.400391  12230.700195  12147.599609  12222.500000   \n",
       "2010-01-07  12163.000000  12199.700195  12079.099609  12166.299805   \n",
       "2010-01-08  12218.000000  12232.200195  12079.900391  12163.000000   \n",
       "\n",
       "               Adj Close  Volume  \n",
       "Date                              \n",
       "2010-01-04  12145.086914  184200  \n",
       "2010-01-05  12204.387695  238400  \n",
       "2010-01-06  12222.487305  123800  \n",
       "2010-01-07  12166.287109  192400  \n",
       "2010-01-08  12162.987305  213200  "
      ]
     },
     "execution_count": 14,
     "metadata": {},
     "output_type": "execute_result"
    }
   ],
   "source": [
    "df.head()"
   ]
  },
  {
   "cell_type": "markdown",
   "metadata": {},
   "source": [
    "### BEAR vs Bull MARKET "
   ]
  },
  {
   "cell_type": "markdown",
   "metadata": {},
   "source": [
    " Bull market is typified by a sustained increase in prices. A bear market is one that is in decline"
   ]
  },
  {
   "cell_type": "code",
   "execution_count": 21,
   "metadata": {},
   "outputs": [
    {
     "data": {
      "image/png": "[encoded data removed]",
      "text/plain": [
       "<Figure size 432x288 with 1 Axes>"
      ]
     },
     "metadata": {},
     "output_type": "display_data"
    }
   ],
   "source": [
    "#moving avarage, con min periods lo que hace es que no necesitas puntos. de esta forma no tenemos que eliminar los nOn values\n",
    "\n",
    "ma = 50\n",
    "ma_string = \"Sma_\" + str(ma)\n",
    "\n",
    "df[\"25ma\"] = df[\"Open\"].rolling(window=25, min_periods=0).mean()\n",
    "df[\"100ma\"] = df[\"Open\"].rolling(window=100, min_periods=0).mean()\n",
    "df[\"91ma\"] = df[\"Open\"].rolling(window=91, min_periods=0).mean()\n",
    "df[\"Bear_Bull\"] = df[\"91ma\"].mean()\n",
    "\n",
    "\n",
    "\n",
    "#df.dropna()\n",
    "df.tail()\n",
    "df.head()\n",
    "df[\"Bear_Bull\"].plot()\n",
    "df[\"Open\"].plot()\n",
    "plt.show()\n"
   ]
  },
  {
   "cell_type": "code",
   "execution_count": 25,
   "metadata": {},
   "outputs": [
    {
     "name": "stdout",
     "output_type": "stream",
     "text": [
      "CONCLUSION 1 The  ['^IBEX']  is  bear\n"
     ]
    }
   ],
   "source": [
    "### CONCLUSION 1 \n",
    "if df[\"Open\"][-1] < df[\"Bear_Bull\"][-1]:\n",
    "    market = \"bear\"\n",
    "else:\n",
    "    market = \"bull\"\n",
    "print(\"CONCLUSION 1 The \", tik, \" is \", market)"
   ]
  },
  {
   "cell_type": "code",
   "execution_count": 19,
   "metadata": {},
   "outputs": [
    {
     "name": "stdout",
     "output_type": "stream",
     "text": [
      "                   Open         High          Low        Close    Adj Close  \\\n",
      "Date                                                                          \n",
      "2020-01-02  9639.099609  9705.400391  9615.099609  9691.200195  9691.200195   \n",
      "2020-01-03  9631.200195  9650.700195  9581.200195  9646.599609  9646.599609   \n",
      "2020-01-06  9585.400391  9618.200195  9492.700195  9600.900391  9600.900391   \n",
      "2020-01-07  9623.099609  9657.900391  9557.900391  9579.799805  9579.799805   \n",
      "2020-01-08  9535.099609  9604.299805  9520.299805  9591.400391  9591.400391   \n",
      "\n",
      "               Volume         25ma        100ma         91ma    Bear_Bull  \\\n",
      "Date                                                                        \n",
      "2020-01-02  142379600  9463.607969  9185.780977  9237.979084  9491.659631   \n",
      "2020-01-03  135130000  9475.911992  9195.810977  9249.274693  9491.659631   \n",
      "2020-01-06  103520400  9485.188008  9204.824980  9259.199970  9491.659631   \n",
      "2020-01-07  133476100  9495.968008  9215.544980  9269.217548  9491.659631   \n",
      "2020-01-08  133957600  9503.991992  9225.595977  9278.084575  9491.659631   \n",
      "\n",
      "            25ma_tomorrow  100ma_tomorrow  \n",
      "Date                                       \n",
      "2020-01-02    9450.043984     9177.358984  \n",
      "2020-01-03    9463.607969     9185.780977  \n",
      "2020-01-06    9475.911992     9195.810977  \n",
      "2020-01-07    9485.188008     9204.824980  \n",
      "2020-01-08    9495.968008     9215.544980  \n"
     ]
    }
   ],
   "source": [
    "date = df[df.index.year == 2020]\n",
    "print(date.head())"
   ]
  },
  {
   "cell_type": "code",
   "execution_count": 21,
   "metadata": {},
   "outputs": [
    {
     "data": {
      "text/plain": [
       "Date\n",
       "2010-01-31    4322800\n",
       "2010-02-28    5002200\n",
       "2010-03-31    4184200\n",
       "2010-04-30    4806800\n",
       "2010-05-31    7346800\n",
       "Freq: M, Name: Volume, dtype: int64"
      ]
     },
     "execution_count": 21,
     "metadata": {},
     "output_type": "execute_result"
    }
   ],
   "source": [
    "#resample si queremos modificar los agregados. \n",
    "df_volumen = df[\"Volume\"].resample(\"M\").sum()\n",
    "df_ohlc = df[\"Open\"].resample(\"A\").mean()\n",
    "df_volumen.head()"
   ]
  },
  {
   "cell_type": "code",
   "execution_count": null,
   "metadata": {},
   "outputs": [],
   "source": [
    "for i in df.index:\n",
    "    if df[\"Close\"][i] < df[\"25ma\"][i]\n",
    "        print(\"The close is lower\")\n",
    "    else:\n",
    "        print(\"The close is higher\")"
   ]
  },
  {
   "cell_type": "code",
   "execution_count": null,
   "metadata": {},
   "outputs": [],
   "source": []
  },
  {
   "cell_type": "code",
   "execution_count": null,
   "metadata": {},
   "outputs": [],
   "source": []
  }
 ],
 "metadata": {
  "kernelspec": {
   "display_name": "Python 3",
   "language": "python",
   "name": "python3"
  },
  "language_info": {
   "codemirror_mode": {
    "name": "ipython",
    "version": 3
   },
   "file_extension": ".py",
   "mimetype": "text/x-python",
   "name": "python",
   "nbconvert_exporter": "python",
   "pygments_lexer": "ipython3",
   "version": "3.7.7"
  }
 },
 "nbformat": 4,
 "nbformat_minor": 4
}
